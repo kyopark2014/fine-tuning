{
 "cells": [
  {
   "cell_type": "markdown",
   "id": "9b4390d6-e35f-4f4b-8155-431c36ba8471",
   "metadata": {},
   "source": [
    "## Reference [Setup](https://github.com/daekeun-ml/genai-ko-LLM/blob/main/fine-tuning/0_setup.ipynb)"
   ]
  },
  {
   "cell_type": "markdown",
   "id": "5916cc27-8cf2-4096-9503-40339001fdc9",
   "metadata": {},
   "source": [
    "## Install dependencies"
   ]
  },
  {
   "cell_type": "code",
   "execution_count": 2,
   "id": "52bf6a4f-fce1-44f1-943d-4ac1b9e0a5e9",
   "metadata": {
    "tags": []
   },
   "outputs": [
    {
     "name": "stdout",
     "output_type": "stream",
     "text": [
      "Collecting peft==0.7.1 (from -r requirements.txt (line 1))\n",
      "  Using cached peft-0.7.1-py3-none-any.whl.metadata (25 kB)\n",
      "Collecting accelerate==0.25.0 (from -r requirements.txt (line 2))\n",
      "  Using cached accelerate-0.25.0-py3-none-any.whl.metadata (18 kB)\n",
      "Collecting transformers==4.36.2 (from -r requirements.txt (line 3))\n",
      "  Using cached transformers-4.36.2-py3-none-any.whl.metadata (126 kB)\n",
      "Collecting bitsandbytes==0.41.3 (from -r requirements.txt (line 4))\n",
      "  Using cached bitsandbytes-0.41.3-py3-none-any.whl.metadata (9.8 kB)\n",
      "Collecting datasets==2.16.0 (from -r requirements.txt (line 5))\n",
      "  Using cached datasets-2.16.0-py3-none-any.whl.metadata (20 kB)\n",
      "Collecting wandb (from -r requirements.txt (line 6))\n",
      "  Using cached wandb-0.16.3-py3-none-any.whl.metadata (9.9 kB)\n",
      "Requirement already satisfied: numpy>=1.17 in /home/ec2-user/anaconda3/envs/python3/lib/python3.10/site-packages (from peft==0.7.1->-r requirements.txt (line 1)) (1.22.4)\n",
      "Requirement already satisfied: packaging>=20.0 in /home/ec2-user/anaconda3/envs/python3/lib/python3.10/site-packages (from peft==0.7.1->-r requirements.txt (line 1)) (21.3)\n",
      "Requirement already satisfied: psutil in /home/ec2-user/anaconda3/envs/python3/lib/python3.10/site-packages (from peft==0.7.1->-r requirements.txt (line 1)) (5.9.5)\n",
      "Requirement already satisfied: pyyaml in /home/ec2-user/anaconda3/envs/python3/lib/python3.10/site-packages (from peft==0.7.1->-r requirements.txt (line 1)) (6.0.1)\n",
      "Requirement already satisfied: torch>=1.13.0 in /home/ec2-user/anaconda3/envs/python3/lib/python3.10/site-packages (from peft==0.7.1->-r requirements.txt (line 1)) (2.2.0)\n",
      "Requirement already satisfied: tqdm in /home/ec2-user/anaconda3/envs/python3/lib/python3.10/site-packages (from peft==0.7.1->-r requirements.txt (line 1)) (4.66.1)\n",
      "Requirement already satisfied: safetensors in /home/ec2-user/anaconda3/envs/python3/lib/python3.10/site-packages (from peft==0.7.1->-r requirements.txt (line 1)) (0.4.2)\n",
      "Requirement already satisfied: huggingface-hub>=0.17.0 in /home/ec2-user/anaconda3/envs/python3/lib/python3.10/site-packages (from peft==0.7.1->-r requirements.txt (line 1)) (0.20.3)\n",
      "Requirement already satisfied: filelock in /home/ec2-user/anaconda3/envs/python3/lib/python3.10/site-packages (from transformers==4.36.2->-r requirements.txt (line 3)) (3.12.4)\n",
      "Requirement already satisfied: regex!=2019.12.17 in /home/ec2-user/anaconda3/envs/python3/lib/python3.10/site-packages (from transformers==4.36.2->-r requirements.txt (line 3)) (2023.10.3)\n",
      "Requirement already satisfied: requests in /home/ec2-user/anaconda3/envs/python3/lib/python3.10/site-packages (from transformers==4.36.2->-r requirements.txt (line 3)) (2.31.0)\n",
      "Requirement already satisfied: tokenizers<0.19,>=0.14 in /home/ec2-user/anaconda3/envs/python3/lib/python3.10/site-packages (from transformers==4.36.2->-r requirements.txt (line 3)) (0.15.2)\n",
      "Requirement already satisfied: pyarrow>=8.0.0 in /home/ec2-user/anaconda3/envs/python3/lib/python3.10/site-packages (from datasets==2.16.0->-r requirements.txt (line 5)) (13.0.0)\n",
      "Collecting pyarrow-hotfix (from datasets==2.16.0->-r requirements.txt (line 5))\n",
      "  Using cached pyarrow_hotfix-0.6-py3-none-any.whl.metadata (3.6 kB)\n",
      "Collecting dill<0.3.8,>=0.3.0 (from datasets==2.16.0->-r requirements.txt (line 5))\n",
      "  Downloading dill-0.3.7-py3-none-any.whl.metadata (9.9 kB)\n",
      "Requirement already satisfied: pandas in /home/ec2-user/anaconda3/envs/python3/lib/python3.10/site-packages (from datasets==2.16.0->-r requirements.txt (line 5)) (2.1.1)\n",
      "Collecting xxhash (from datasets==2.16.0->-r requirements.txt (line 5))\n",
      "  Using cached xxhash-3.4.1-cp310-cp310-manylinux_2_17_x86_64.manylinux2014_x86_64.whl.metadata (12 kB)\n",
      "Requirement already satisfied: multiprocess in /home/ec2-user/anaconda3/envs/python3/lib/python3.10/site-packages (from datasets==2.16.0->-r requirements.txt (line 5)) (0.70.16)\n",
      "Requirement already satisfied: fsspec<=2023.10.0,>=2023.1.0 in /home/ec2-user/anaconda3/envs/python3/lib/python3.10/site-packages (from fsspec[http]<=2023.10.0,>=2023.1.0->datasets==2.16.0->-r requirements.txt (line 5)) (2023.10.0)\n",
      "Requirement already satisfied: aiohttp in /home/ec2-user/anaconda3/envs/python3/lib/python3.10/site-packages (from datasets==2.16.0->-r requirements.txt (line 5)) (3.8.6)\n",
      "Requirement already satisfied: Click!=8.0.0,>=7.1 in /home/ec2-user/anaconda3/envs/python3/lib/python3.10/site-packages (from wandb->-r requirements.txt (line 6)) (8.1.7)\n",
      "Collecting GitPython!=3.1.29,>=1.0.0 (from wandb->-r requirements.txt (line 6))\n",
      "  Using cached GitPython-3.1.41-py3-none-any.whl.metadata (14 kB)\n",
      "Collecting sentry-sdk>=1.0.0 (from wandb->-r requirements.txt (line 6))\n",
      "  Downloading sentry_sdk-1.40.3-py2.py3-none-any.whl.metadata (9.7 kB)\n",
      "Collecting docker-pycreds>=0.4.0 (from wandb->-r requirements.txt (line 6))\n",
      "  Using cached docker_pycreds-0.4.0-py2.py3-none-any.whl (9.0 kB)\n",
      "Collecting setproctitle (from wandb->-r requirements.txt (line 6))\n",
      "  Using cached setproctitle-1.3.3-cp310-cp310-manylinux_2_5_x86_64.manylinux1_x86_64.manylinux_2_17_x86_64.manylinux2014_x86_64.whl.metadata (9.9 kB)\n",
      "Requirement already satisfied: setuptools in /home/ec2-user/anaconda3/envs/python3/lib/python3.10/site-packages (from wandb->-r requirements.txt (line 6)) (68.2.2)\n",
      "Collecting appdirs>=1.4.3 (from wandb->-r requirements.txt (line 6))\n",
      "  Using cached appdirs-1.4.4-py2.py3-none-any.whl (9.6 kB)\n",
      "Requirement already satisfied: protobuf!=4.21.0,<5,>=3.19.0 in /home/ec2-user/anaconda3/envs/python3/lib/python3.10/site-packages (from wandb->-r requirements.txt (line 6)) (4.25.2)\n",
      "Requirement already satisfied: six>=1.4.0 in /home/ec2-user/anaconda3/envs/python3/lib/python3.10/site-packages (from docker-pycreds>=0.4.0->wandb->-r requirements.txt (line 6)) (1.16.0)\n",
      "Requirement already satisfied: attrs>=17.3.0 in /home/ec2-user/anaconda3/envs/python3/lib/python3.10/site-packages (from aiohttp->datasets==2.16.0->-r requirements.txt (line 5)) (23.1.0)\n",
      "Requirement already satisfied: charset-normalizer<4.0,>=2.0 in /home/ec2-user/anaconda3/envs/python3/lib/python3.10/site-packages (from aiohttp->datasets==2.16.0->-r requirements.txt (line 5)) (3.3.1)\n",
      "Requirement already satisfied: multidict<7.0,>=4.5 in /home/ec2-user/anaconda3/envs/python3/lib/python3.10/site-packages (from aiohttp->datasets==2.16.0->-r requirements.txt (line 5)) (6.0.4)\n",
      "Requirement already satisfied: async-timeout<5.0,>=4.0.0a3 in /home/ec2-user/anaconda3/envs/python3/lib/python3.10/site-packages (from aiohttp->datasets==2.16.0->-r requirements.txt (line 5)) (4.0.3)\n",
      "Requirement already satisfied: yarl<2.0,>=1.0 in /home/ec2-user/anaconda3/envs/python3/lib/python3.10/site-packages (from aiohttp->datasets==2.16.0->-r requirements.txt (line 5)) (1.9.2)\n",
      "Requirement already satisfied: frozenlist>=1.1.1 in /home/ec2-user/anaconda3/envs/python3/lib/python3.10/site-packages (from aiohttp->datasets==2.16.0->-r requirements.txt (line 5)) (1.4.0)\n",
      "Requirement already satisfied: aiosignal>=1.1.2 in /home/ec2-user/anaconda3/envs/python3/lib/python3.10/site-packages (from aiohttp->datasets==2.16.0->-r requirements.txt (line 5)) (1.3.1)\n",
      "Collecting gitdb<5,>=4.0.1 (from GitPython!=3.1.29,>=1.0.0->wandb->-r requirements.txt (line 6))\n",
      "  Using cached gitdb-4.0.11-py3-none-any.whl.metadata (1.2 kB)\n",
      "Requirement already satisfied: typing-extensions>=3.7.4.3 in /home/ec2-user/anaconda3/envs/python3/lib/python3.10/site-packages (from huggingface-hub>=0.17.0->peft==0.7.1->-r requirements.txt (line 1)) (4.8.0)\n",
      "Requirement already satisfied: pyparsing!=3.0.5,>=2.0.2 in /home/ec2-user/anaconda3/envs/python3/lib/python3.10/site-packages (from packaging>=20.0->peft==0.7.1->-r requirements.txt (line 1)) (3.1.1)\n",
      "Requirement already satisfied: idna<4,>=2.5 in /home/ec2-user/anaconda3/envs/python3/lib/python3.10/site-packages (from requests->transformers==4.36.2->-r requirements.txt (line 3)) (3.4)\n",
      "Requirement already satisfied: urllib3<3,>=1.21.1 in /home/ec2-user/anaconda3/envs/python3/lib/python3.10/site-packages (from requests->transformers==4.36.2->-r requirements.txt (line 3)) (1.26.18)\n",
      "Requirement already satisfied: certifi>=2017.4.17 in /home/ec2-user/anaconda3/envs/python3/lib/python3.10/site-packages (from requests->transformers==4.36.2->-r requirements.txt (line 3)) (2023.7.22)\n",
      "Requirement already satisfied: sympy in /home/ec2-user/anaconda3/envs/python3/lib/python3.10/site-packages (from torch>=1.13.0->peft==0.7.1->-r requirements.txt (line 1)) (1.12)\n",
      "Requirement already satisfied: networkx in /home/ec2-user/anaconda3/envs/python3/lib/python3.10/site-packages (from torch>=1.13.0->peft==0.7.1->-r requirements.txt (line 1)) (3.2)\n",
      "Requirement already satisfied: jinja2 in /home/ec2-user/anaconda3/envs/python3/lib/python3.10/site-packages (from torch>=1.13.0->peft==0.7.1->-r requirements.txt (line 1)) (3.1.2)\n",
      "Requirement already satisfied: nvidia-cuda-nvrtc-cu12==12.1.105 in /home/ec2-user/anaconda3/envs/python3/lib/python3.10/site-packages (from torch>=1.13.0->peft==0.7.1->-r requirements.txt (line 1)) (12.1.105)\n",
      "Requirement already satisfied: nvidia-cuda-runtime-cu12==12.1.105 in /home/ec2-user/anaconda3/envs/python3/lib/python3.10/site-packages (from torch>=1.13.0->peft==0.7.1->-r requirements.txt (line 1)) (12.1.105)\n",
      "Requirement already satisfied: nvidia-cuda-cupti-cu12==12.1.105 in /home/ec2-user/anaconda3/envs/python3/lib/python3.10/site-packages (from torch>=1.13.0->peft==0.7.1->-r requirements.txt (line 1)) (12.1.105)\n",
      "Requirement already satisfied: nvidia-cudnn-cu12==8.9.2.26 in /home/ec2-user/anaconda3/envs/python3/lib/python3.10/site-packages (from torch>=1.13.0->peft==0.7.1->-r requirements.txt (line 1)) (8.9.2.26)\n",
      "Requirement already satisfied: nvidia-cublas-cu12==12.1.3.1 in /home/ec2-user/anaconda3/envs/python3/lib/python3.10/site-packages (from torch>=1.13.0->peft==0.7.1->-r requirements.txt (line 1)) (12.1.3.1)\n",
      "Requirement already satisfied: nvidia-cufft-cu12==11.0.2.54 in /home/ec2-user/anaconda3/envs/python3/lib/python3.10/site-packages (from torch>=1.13.0->peft==0.7.1->-r requirements.txt (line 1)) (11.0.2.54)\n",
      "Requirement already satisfied: nvidia-curand-cu12==10.3.2.106 in /home/ec2-user/anaconda3/envs/python3/lib/python3.10/site-packages (from torch>=1.13.0->peft==0.7.1->-r requirements.txt (line 1)) (10.3.2.106)\n",
      "Requirement already satisfied: nvidia-cusolver-cu12==11.4.5.107 in /home/ec2-user/anaconda3/envs/python3/lib/python3.10/site-packages (from torch>=1.13.0->peft==0.7.1->-r requirements.txt (line 1)) (11.4.5.107)\n",
      "Requirement already satisfied: nvidia-cusparse-cu12==12.1.0.106 in /home/ec2-user/anaconda3/envs/python3/lib/python3.10/site-packages (from torch>=1.13.0->peft==0.7.1->-r requirements.txt (line 1)) (12.1.0.106)\n",
      "Requirement already satisfied: nvidia-nccl-cu12==2.19.3 in /home/ec2-user/anaconda3/envs/python3/lib/python3.10/site-packages (from torch>=1.13.0->peft==0.7.1->-r requirements.txt (line 1)) (2.19.3)\n",
      "Requirement already satisfied: nvidia-nvtx-cu12==12.1.105 in /home/ec2-user/anaconda3/envs/python3/lib/python3.10/site-packages (from torch>=1.13.0->peft==0.7.1->-r requirements.txt (line 1)) (12.1.105)\n",
      "Requirement already satisfied: triton==2.2.0 in /home/ec2-user/anaconda3/envs/python3/lib/python3.10/site-packages (from torch>=1.13.0->peft==0.7.1->-r requirements.txt (line 1)) (2.2.0)\n",
      "Requirement already satisfied: nvidia-nvjitlink-cu12 in /home/ec2-user/anaconda3/envs/python3/lib/python3.10/site-packages (from nvidia-cusolver-cu12==11.4.5.107->torch>=1.13.0->peft==0.7.1->-r requirements.txt (line 1)) (12.3.101)\n",
      "INFO: pip is looking at multiple versions of multiprocess to determine which version is compatible with other requirements. This could take a while.\n",
      "Collecting multiprocess (from datasets==2.16.0->-r requirements.txt (line 5))\n",
      "  Downloading multiprocess-0.70.15-py310-none-any.whl.metadata (7.2 kB)\n",
      "Requirement already satisfied: python-dateutil>=2.8.2 in /home/ec2-user/anaconda3/envs/python3/lib/python3.10/site-packages (from pandas->datasets==2.16.0->-r requirements.txt (line 5)) (2.8.2)\n",
      "Requirement already satisfied: pytz>=2020.1 in /home/ec2-user/anaconda3/envs/python3/lib/python3.10/site-packages (from pandas->datasets==2.16.0->-r requirements.txt (line 5)) (2023.3.post1)\n",
      "Requirement already satisfied: tzdata>=2022.1 in /home/ec2-user/anaconda3/envs/python3/lib/python3.10/site-packages (from pandas->datasets==2.16.0->-r requirements.txt (line 5)) (2023.3)\n",
      "Collecting smmap<6,>=3.0.1 (from gitdb<5,>=4.0.1->GitPython!=3.1.29,>=1.0.0->wandb->-r requirements.txt (line 6))\n",
      "  Using cached smmap-5.0.1-py3-none-any.whl.metadata (4.3 kB)\n",
      "Requirement already satisfied: MarkupSafe>=2.0 in /home/ec2-user/anaconda3/envs/python3/lib/python3.10/site-packages (from jinja2->torch>=1.13.0->peft==0.7.1->-r requirements.txt (line 1)) (2.1.3)\n",
      "Requirement already satisfied: mpmath>=0.19 in /home/ec2-user/anaconda3/envs/python3/lib/python3.10/site-packages (from sympy->torch>=1.13.0->peft==0.7.1->-r requirements.txt (line 1)) (1.3.0)\n",
      "Using cached peft-0.7.1-py3-none-any.whl (168 kB)\n",
      "Using cached accelerate-0.25.0-py3-none-any.whl (265 kB)\n",
      "Using cached transformers-4.36.2-py3-none-any.whl (8.2 MB)\n",
      "Using cached bitsandbytes-0.41.3-py3-none-any.whl (92.6 MB)\n",
      "Using cached datasets-2.16.0-py3-none-any.whl (507 kB)\n",
      "Using cached wandb-0.16.3-py3-none-any.whl (2.2 MB)\n",
      "Downloading dill-0.3.7-py3-none-any.whl (115 kB)\n",
      "\u001b[2K   \u001b[90m━━━━━━━━━━━━━━━━━━━━━━━━━━━━━━━━━━━━━━━━\u001b[0m \u001b[32m115.3/115.3 kB\u001b[0m \u001b[31m10.3 MB/s\u001b[0m eta \u001b[36m0:00:00\u001b[0m\n",
      "\u001b[?25hUsing cached GitPython-3.1.41-py3-none-any.whl (196 kB)\n",
      "Downloading sentry_sdk-1.40.3-py2.py3-none-any.whl (257 kB)\n",
      "\u001b[2K   \u001b[90m━━━━━━━━━━━━━━━━━━━━━━━━━━━━━━━━━━━━━━━━\u001b[0m \u001b[32m257.8/257.8 kB\u001b[0m \u001b[31m19.4 MB/s\u001b[0m eta \u001b[36m0:00:00\u001b[0m\n",
      "\u001b[?25hDownloading multiprocess-0.70.15-py310-none-any.whl (134 kB)\n",
      "\u001b[2K   \u001b[90m━━━━━━━━━━━━━━━━━━━━━━━━━━━━━━━━━━━━━━━━\u001b[0m \u001b[32m134.8/134.8 kB\u001b[0m \u001b[31m21.9 MB/s\u001b[0m eta \u001b[36m0:00:00\u001b[0m\n",
      "\u001b[?25hUsing cached pyarrow_hotfix-0.6-py3-none-any.whl (7.9 kB)\n",
      "Using cached setproctitle-1.3.3-cp310-cp310-manylinux_2_5_x86_64.manylinux1_x86_64.manylinux_2_17_x86_64.manylinux2014_x86_64.whl (30 kB)\n",
      "Using cached xxhash-3.4.1-cp310-cp310-manylinux_2_17_x86_64.manylinux2014_x86_64.whl (194 kB)\n",
      "Using cached gitdb-4.0.11-py3-none-any.whl (62 kB)\n",
      "Using cached smmap-5.0.1-py3-none-any.whl (24 kB)\n",
      "Installing collected packages: bitsandbytes, appdirs, xxhash, smmap, setproctitle, sentry-sdk, pyarrow-hotfix, docker-pycreds, dill, multiprocess, gitdb, GitPython, wandb, transformers, datasets, accelerate, peft\n",
      "  Attempting uninstall: dill\n",
      "    Found existing installation: dill 0.3.8\n",
      "    Uninstalling dill-0.3.8:\n",
      "      Successfully uninstalled dill-0.3.8\n",
      "  Attempting uninstall: multiprocess\n",
      "    Found existing installation: multiprocess 0.70.16\n",
      "    Uninstalling multiprocess-0.70.16:\n",
      "      Successfully uninstalled multiprocess-0.70.16\n",
      "  Attempting uninstall: transformers\n",
      "    Found existing installation: transformers 4.37.2\n",
      "    Uninstalling transformers-4.37.2:\n",
      "      Successfully uninstalled transformers-4.37.2\n",
      "  Attempting uninstall: accelerate\n",
      "    Found existing installation: accelerate 0.27.0\n",
      "    Uninstalling accelerate-0.27.0:\n",
      "      Successfully uninstalled accelerate-0.27.0\n",
      "\u001b[31mERROR: pip's dependency resolver does not currently take into account all the packages that are installed. This behaviour is the source of the following dependency conflicts.\n",
      "pathos 0.3.2 requires dill>=0.3.8, but you have dill 0.3.7 which is incompatible.\n",
      "pathos 0.3.2 requires multiprocess>=0.70.16, but you have multiprocess 0.70.15 which is incompatible.\u001b[0m\u001b[31m\n",
      "\u001b[0mSuccessfully installed GitPython-3.1.41 accelerate-0.25.0 appdirs-1.4.4 bitsandbytes-0.41.3 datasets-2.16.0 dill-0.3.7 docker-pycreds-0.4.0 gitdb-4.0.11 multiprocess-0.70.15 peft-0.7.1 pyarrow-hotfix-0.6 sentry-sdk-1.40.3 setproctitle-1.3.3 smmap-5.0.1 transformers-4.36.2 wandb-0.16.3 xxhash-3.4.1\n"
     ]
    }
   ],
   "source": [
    "!pip install -r requirements.txt"
   ]
  },
  {
   "cell_type": "code",
   "execution_count": 3,
   "id": "492233bb-492f-429d-afbc-7103c895ae34",
   "metadata": {
    "tags": []
   },
   "outputs": [
    {
     "name": "stdout",
     "output_type": "stream",
     "text": [
      "\u001b[31mERROR: pip's dependency resolver does not currently take into account all the packages that are installed. This behaviour is the source of the following dependency conflicts.\n",
      "awscli 1.32.33 requires botocore==1.34.33, but you have botocore 1.34.40 which is incompatible.\n",
      "datasets 2.16.0 requires dill<0.3.8,>=0.3.0, but you have dill 0.3.8 which is incompatible.\n",
      "sparkmagic 0.21.0 requires pandas<2.0.0,>=0.17.1, but you have pandas 2.1.1 which is incompatible.\n",
      "sphinx 7.2.6 requires docutils<0.21,>=0.18.1, but you have docutils 0.16 which is incompatible.\u001b[0m\u001b[31m\n",
      "\u001b[0m"
     ]
    }
   ],
   "source": [
    "!pip install -qU boto3 botocore huggingface_hub sagemaker langchain deepspeed wandb"
   ]
  },
  {
   "cell_type": "markdown",
   "id": "0d4b7933-8392-4df4-9f18-db4229ab7c2d",
   "metadata": {},
   "source": [
    "## Change Docker image path to EBS\n",
    "\n",
    "SageMaker 노트북 인스턴스에서 로컬 모드 디버깅 시 종종 No space left 관련 오류가 발생합니다. 따라서, 도커 이미지/컨테이너가 저장될 폴더를 SageMaker EBS (Amazon Elastic Block Store) 볼륨으로 변경하는 것을 권장합니다. 도커 이미지/컨테이너는 기본적으로 EBS가 아닌 루트 볼륨에 저장하기 때문에(루트 볼륨의 크기는 사용자가 임의로 조정할 수 없습니다!) 고용량의 이미지들을 빌드하면 용량이 꽉 차기 때문입니다."
   ]
  },
  {
   "cell_type": "code",
   "execution_count": 4,
   "id": "4b05a175-092f-4f89-80fa-a9ca22905aa3",
   "metadata": {
    "tags": []
   },
   "outputs": [
    {
     "name": "stdout",
     "output_type": "stream",
     "text": [
      "Add data-root and default-shm-size=10G\n"
     ]
    },
    {
     "name": "stderr",
     "output_type": "stream",
     "text": [
      "Redirecting to /bin/systemctl restart docker.service\n"
     ]
    },
    {
     "name": "stdout",
     "output_type": "stream",
     "text": [
      "Docker Restart\n",
      " Docker Root Dir: /home/ec2-user/SageMaker/.container/docker\n"
     ]
    }
   ],
   "source": [
    "%%bash\n",
    "\n",
    "#!/usr/bin/env bash\n",
    "\n",
    "echo '{\n",
    "    \"runtimes\": {\n",
    "        \"nvidia\": {\n",
    "            \"path\": \"nvidia-container-runtime\",\n",
    "            \"runtimeArgs\": []\n",
    "        }\n",
    "    }\n",
    "}' > daemon.json\n",
    "\n",
    "sudo cp daemon.json /etc/docker/daemon.json && rm daemon.json\n",
    "\n",
    "DAEMON_PATH=\"/etc/docker\"\n",
    "MEMORY_SIZE=10G\n",
    "\n",
    "FLAG=$(cat $DAEMON_PATH/daemon.json | jq 'has(\"data-root\")')\n",
    "# echo $FLAG\n",
    "\n",
    "if [ \"$FLAG\" == true ]; then\n",
    "    echo \"Already revised\"\n",
    "else\n",
    "    echo \"Add data-root and default-shm-size=$MEMORY_SIZE\"\n",
    "    sudo cp $DAEMON_PATH/daemon.json $DAEMON_PATH/daemon.json.bak\n",
    "    sudo cat $DAEMON_PATH/daemon.json.bak | jq '. += {\"data-root\":\"/home/ec2-user/SageMaker/.container/docker\",\"default-shm-size\":\"'$MEMORY_SIZE'\"}' | sudo tee $DAEMON_PATH/daemon.json > /dev/null\n",
    "    sudo service docker restart\n",
    "    echo \"Docker Restart\"\n",
    "fi\n",
    "\n",
    "sudo docker info | grep Root"
   ]
  },
  {
   "cell_type": "markdown",
   "id": "a54482bd-a532-4351-9ac4-c1c6c0d964d6",
   "metadata": {},
   "source": [
    "# [Preprocess Datasets for Korean LLM (Large Language Model) fine-tuning](https://github.com/daekeun-ml/genai-ko-LLM/blob/main/fine-tuning/1_prepare-dataset-chunk-method.ipynb)"
   ]
  },
  {
   "cell_type": "markdown",
   "id": "be45566c-e864-442e-9e00-1a2969591264",
   "metadata": {},
   "source": [
    "- [AWS 기술 블로그](https://aws.amazon.com/ko/blogs/tech/train-a-large-language-model-on-a-single-amazon-sagemaker-gpu-with-hugging-face-and-lora/)에서 전처리했던 방식대로 전처리 수행\n",
    "\n",
    "- 허깅페이스 인증 정보 설정: huggingface-cli login\n",
    "\n",
    "https://huggingface.co/join\n",
    "\n",
    "https://huggingface.co/settings/tokens"
   ]
  },
  {
   "cell_type": "markdown",
   "id": "7787285f-55b4-4dc4-bbef-f1bbe1e257b0",
   "metadata": {},
   "source": [
    "### Download LLM from Hugging Face hub\n",
    "\n",
    "Load dataset\n",
    "\n",
    "허깅페이스 허브에서 다운로드하거나 json/json 포맷의 데이터 세트를 다운로드합니다. 데이터 세트 내 샘플은 (instruction, input, output)의 key-value나 (instruction, output)의 key-value로 구성되어야 합니다.\n",
    "\n",
    "예시:\n",
    "\n",
    "{\n",
    "    \"instruction\":\"건강을 유지하기 위한 세 가지 팁을 알려주세요.\",\n",
    "    \"input\":\"\",\n",
    "    \"output\":\"세 가지 팁은 아침식사를 꼭 챙기며, 충분한 수면을 취하고, 적극적으로 운동을 하는 것입니다.\"\n",
    "}"
   ]
  },
  {
   "cell_type": "code",
   "execution_count": 1,
   "id": "8ea52fe6-4e85-4400-8b19-b60ac609155b",
   "metadata": {
    "tags": []
   },
   "outputs": [
    {
     "name": "stderr",
     "output_type": "stream",
     "text": [
      "/home/ec2-user/anaconda3/envs/python3/lib/python3.10/site-packages/transformers/utils/generic.py:441: UserWarning: torch.utils._pytree._register_pytree_node is deprecated. Please use torch.utils._pytree.register_pytree_node instead.\n",
      "  _torch_pytree._register_pytree_node(\n",
      "/home/ec2-user/anaconda3/envs/python3/lib/python3.10/site-packages/pandas/core/computation/expressions.py:21: UserWarning: Pandas requires version '2.8.0' or newer of 'numexpr' (version '2.7.3' currently installed).\n",
      "  from pandas.core.computation.check import NUMEXPR_INSTALLED\n"
     ]
    }
   ],
   "source": [
    "import os\n",
    "import torch\n",
    "import transformers\n",
    "from datasets import load_dataset\n",
    "\n",
    "data_path = \"beomi/KoAlpaca-v1.1a\"\n",
    "#data_path = \"./data/ko_alpaca_data.json\"\n",
    "\n",
    "if data_path.endswith(\".json\") or data_path.endswith(\".jsonl\"):\n",
    "    data = load_dataset(\"json\", data_files=data_path)\n",
    "else:\n",
    "    data = load_dataset(data_path)\n"
   ]
  },
  {
   "cell_type": "code",
   "execution_count": 2,
   "id": "e333b243-87d0-4d46-942c-f1b404ab8b5b",
   "metadata": {
    "tags": []
   },
   "outputs": [],
   "source": [
    "from inference_lib import Prompter"
   ]
  },
  {
   "cell_type": "code",
   "execution_count": 3,
   "id": "1a3c2e7c-f4be-4880-b562-1ba0819ffa3f",
   "metadata": {
    "tags": []
   },
   "outputs": [],
   "source": [
    "prompter = Prompter(\"kullm\")"
   ]
  },
  {
   "cell_type": "code",
   "execution_count": 4,
   "id": "daa4be39-e91b-45bd-ba00-5405fb19be56",
   "metadata": {
    "tags": []
   },
   "outputs": [
    {
     "name": "stderr",
     "output_type": "stream",
     "text": [
      "/home/ec2-user/anaconda3/envs/python3/lib/python3.10/site-packages/transformers/utils/generic.py:309: UserWarning: torch.utils._pytree._register_pytree_node is deprecated. Please use torch.utils._pytree.register_pytree_node instead.\n",
      "  _torch_pytree._register_pytree_node(\n",
      "/home/ec2-user/anaconda3/envs/python3/lib/python3.10/site-packages/torch/cuda/__init__.py:628: UserWarning: Can't initialize NVML\n",
      "  warnings.warn(\"Can't initialize NVML\")\n",
      "/home/ec2-user/anaconda3/envs/python3/lib/python3.10/site-packages/transformers/utils/generic.py:309: UserWarning: torch.utils._pytree._register_pytree_node is deprecated. Please use torch.utils._pytree.register_pytree_node instead.\n",
      "  _torch_pytree._register_pytree_node(\n",
      "The tokenizer class you load from this checkpoint is not the same type as the class this function is called from. It may result in unexpected tokenization. \n",
      "The tokenizer class you load from this checkpoint is 'PreTrainedTokenizerFast'. \n",
      "The class this function is called from is 'GPTNeoXTokenizerFast'.\n",
      "Special tokens have been added in the vocabulary, make sure the associated word embeddings are fine-tuned or trained.\n"
     ]
    }
   ],
   "source": [
    "import os\n",
    "from pathlib import Path\n",
    "from huggingface_hub import snapshot_download\n",
    "from transformers import GPTNeoXForCausalLM, GPTNeoXTokenizerFast\n",
    "\n",
    "HF_MODEL_ID = \"nlpai-lab/kullm-polyglot-12.8b-v2\"\n",
    "\n",
    "tokenizer = GPTNeoXTokenizerFast.from_pretrained(HF_MODEL_ID)\n",
    "\n",
    "# Only download pytorch checkpoint files\n",
    "allow_patterns = [\"*.json\", \"*.pt\", \"*.bin\", \"*.txt\", \"*.model\"]\n",
    "\n",
    "# create model dir\n",
    "model_name = HF_MODEL_ID.split(\"/\")[-1].replace('.', '-')\n",
    "model_tar_dir = Path(f\"/home/ec2-user/SageMaker/models/{model_name}\")\n",
    "if not os.path.isdir(model_tar_dir):\n",
    "    os.makedirs(model_tar_dir, exist_ok=True)\n",
    "    # Download model from Hugging Face into model_dir\n",
    "    snapshot_download(\n",
    "        HF_MODEL_ID, \n",
    "        local_dir=str(model_tar_dir), \n",
    "        local_dir_use_symlinks=False,\n",
    "        allow_patterns=allow_patterns,\n",
    "        cache_dir=\"/home/ec2-user/SageMaker/\"\n",
    "    )"
   ]
  },
  {
   "cell_type": "code",
   "execution_count": 5,
   "id": "b3c3053c-5edf-4922-829e-7b7d04b8afeb",
   "metadata": {
    "tags": []
   },
   "outputs": [
    {
     "name": "stdout",
     "output_type": "stream",
     "text": [
      "{'instruction': ['양파는 어떤 식물 부위인가요? 그리고 고구마는 뿌리인가요?', '스웨터의 유래는 어디에서 시작되었나요?', '토성의 고리가 빛의 띠로 보이는 이유는 무엇인가요?  \\n\\n토성의 고리는 얼음과 같은 여러 물질로 이루어져 있다고 알고 있는데, 카시니가 찍은 사진에서 마치 빛의 띠 처럼 보이는 이유가 무엇인가요? 물질의 공전 속도가 빠르기 때문에 카메라로 담았을 때 빛의 궤적으로 보이는 건가요? 또한, 야간에 빠르게 움직이는 자동차를 장노출로 찍었을 때 빛의 궤적이 생기는 것과 같은 원리일까요? 그리고 빛의 궤적이 생기는 것은 우주라는 어두운 환경 특성 때문이라고 생각됩니다. 이게 맞을까요?'], 'output': ['양파는 잎이 아닌 식물의 줄기 부분입니다. 고구마는 식물의 뿌리 부분입니다. \\n\\n식물의 부위의 구분에 대해 궁금해하는 분이라면 분명 이 질문에 대한 답을 찾고 있을 것입니다. 양파는 잎이 아닌 줄기 부분입니다. 고구마는 다른 질문과 답변에서 언급된 것과 같이 뿌리 부분입니다. 따라서, 양파는 식물의 줄기 부분이 되고, 고구마는 식물의 뿌리 부분입니다.\\n\\n 덧붙이는 답변: 고구마 줄기도 볶아먹을 수 있나요? \\n\\n고구마 줄기도 식용으로 볶아먹을 수 있습니다. 하지만 줄기 뿐만 아니라, 잎, 씨, 뿌리까지 모든 부위가 식용으로 활용되기도 합니다. 다만, 한국에서는 일반적으로 뿌리 부분인 고구마를 주로 먹습니다.', '스웨터의 유래는 14세기경 북유럽항구지역에서 어망을 짜던 기술을 의복에 활용하면서 시작되었습니다. 노동자들의 방한복에서 시작된 스웨터는 여가생활과 스포츠의 붐에 힘입어 대중화되었습니다. 이후, 겨울철 이너웨어의 대명사가 되었습니다. 스웨터는 짜서(Knit) 만든 옷을 말하며, 어부들의 방한복으로 짜여졌던 스웨터 중에서도 스코틀랜드 해안지방의 여인들은 바다로 나가는 남편이나 연인, 자식들에게 무사히 돌아올 것을 기원하며 로프나 닻 무늬를 정성껏 짜넣었다고 합니다. 그 실용성과 정성이 오늘에까지 이어지고 있습니다.', '토성의 고리가 미세한 입자들로 이루어져 있기 때문에, 입자들의 밀도 차이 때문에 카시니 탐사선에서 찍은 고해상도 사진에서 빛의 띠가 보이는 것입니다.  \\n\\n실제로는 토성의 고리 입자들의 운동이 장노출 사진에서 잔상이 생기는 이유와 관련이 없습니다. 물체의 운동은 토성의 고리가 매끄럽게 보이는 이유와 상관이 없습니다. \\n\\n밀도 차이로 생긴 미세한 입자들의 밀도는 연속적인 것이 아니며 광학계의 분해능으로 인해 고해상도 사진에서 입자 간격이 잘 보이지 않습니다. 따라서, 토성의 고리가 빛의 띠로 보이는 것은 고리 입자밀도의 차이 때문입니다. \\n\\n이렇게 입자들의 밀도 차이가 빛의 띠처럼 보이는 것은, 마치 축구장에서 앉아 조각판처럼 보이는 것과 같은 현상으로 이해할 수 있습니다. 마찬가지로, 먼 광활지에서 숲은 보이고 나무는 안 보이며, 이것은 발생하는 현상과 유사합니다.\\n\\n더 자세한 사항을 알고 싶다면 우주선이 고리를 아주 가까이 찍어 볼 필요가 있습니다. 이것은 훨씬 상세한 데이터를 얻기 위해서는 더욱 다양한 탐사가 필요합니다.'], 'url': ['https://kin.naver.com/qna/detail.naver?d1id=11&dirId=1116&docId=55320268', 'https://kin.naver.com/qna/detail.naver?d1id=11&dirId=11080102&docId=47833655', 'https://kin.naver.com/qna/detail.naver?d1id=11&dirId=1129&docId=329134273']}\n"
     ]
    }
   ],
   "source": [
    "# 데이터셋의 처음 3개 샘플을 출력\n",
    "print(data['train'][:3])"
   ]
  },
  {
   "cell_type": "code",
   "execution_count": 6,
   "id": "dd35f867-41c7-4193-a312-ad5d6f39b090",
   "metadata": {
    "tags": []
   },
   "outputs": [
    {
     "data": {
      "text/plain": [
       "DatasetDict({\n",
       "    train: Dataset({\n",
       "        features: ['instruction', 'output', 'url'],\n",
       "        num_rows: 21155\n",
       "    })\n",
       "})"
      ]
     },
     "execution_count": 6,
     "metadata": {},
     "output_type": "execute_result"
    }
   ],
   "source": [
    "data"
   ]
  },
  {
   "cell_type": "markdown",
   "id": "b43e7649-e9a1-42f4-826f-b730d8c6e483",
   "metadata": {},
   "source": [
    "### 기본 통계량 계산\n",
    "\n",
    "문장의 길이, 단어의 개수, 고유 단어의 개수 등을 계산합니다."
   ]
  },
  {
   "cell_type": "code",
   "execution_count": 7,
   "id": "20c0df4e-b798-47ff-866d-a9031c42cfa5",
   "metadata": {
    "tags": []
   },
   "outputs": [
    {
     "data": {
      "text/html": [
       "<div>\n",
       "<style scoped>\n",
       "    .dataframe tbody tr th:only-of-type {\n",
       "        vertical-align: middle;\n",
       "    }\n",
       "\n",
       "    .dataframe tbody tr th {\n",
       "        vertical-align: top;\n",
       "    }\n",
       "\n",
       "    .dataframe thead th {\n",
       "        text-align: right;\n",
       "    }\n",
       "</style>\n",
       "<table border=\"1\" class=\"dataframe\">\n",
       "  <thead>\n",
       "    <tr style=\"text-align: right;\">\n",
       "      <th></th>\n",
       "      <th>instruction</th>\n",
       "      <th>output</th>\n",
       "      <th>url</th>\n",
       "    </tr>\n",
       "  </thead>\n",
       "  <tbody>\n",
       "    <tr>\n",
       "      <th>0</th>\n",
       "      <td>양파는 어떤 식물 부위인가요? 그리고 고구마는 뿌리인가요?</td>\n",
       "      <td>양파는 잎이 아닌 식물의 줄기 부분입니다. 고구마는 식물의 뿌리 부분입니다. \\n\\...</td>\n",
       "      <td>https://kin.naver.com/qna/detail.naver?d1id=11...</td>\n",
       "    </tr>\n",
       "    <tr>\n",
       "      <th>1</th>\n",
       "      <td>스웨터의 유래는 어디에서 시작되었나요?</td>\n",
       "      <td>스웨터의 유래는 14세기경 북유럽항구지역에서 어망을 짜던 기술을 의복에 활용하면서 ...</td>\n",
       "      <td>https://kin.naver.com/qna/detail.naver?d1id=11...</td>\n",
       "    </tr>\n",
       "    <tr>\n",
       "      <th>2</th>\n",
       "      <td>토성의 고리가 빛의 띠로 보이는 이유는 무엇인가요?  \\n\\n토성의 고리는 얼음과 ...</td>\n",
       "      <td>토성의 고리가 미세한 입자들로 이루어져 있기 때문에, 입자들의 밀도 차이 때문에 카...</td>\n",
       "      <td>https://kin.naver.com/qna/detail.naver?d1id=11...</td>\n",
       "    </tr>\n",
       "    <tr>\n",
       "      <th>3</th>\n",
       "      <td>화장품 OEM과 화장품 ODM의 차이점은 무엇인가요?\\n화장품 자체 제조 브랜드 런...</td>\n",
       "      <td>화장품 제조업체는 대체로 OEM과 ODM을 통해 제품을 만듭니다. OEM은 브랜드에...</td>\n",
       "      <td>https://kin.naver.com/qna/detail.naver?d1id=5&amp;...</td>\n",
       "    </tr>\n",
       "    <tr>\n",
       "      <th>4</th>\n",
       "      <td>'사이보그'는 언제 처음 등장한 말이며, 그 의미와 종류에는 어떤 것이 있는지 알고...</td>\n",
       "      <td>'사이보그'는 1960년에 처음 등장한 말로, 기계와 유기체가 합성되어 생겨난 새로...</td>\n",
       "      <td>https://kin.naver.com/qna/detail.naver?d1id=11...</td>\n",
       "    </tr>\n",
       "    <tr>\n",
       "      <th>...</th>\n",
       "      <td>...</td>\n",
       "      <td>...</td>\n",
       "      <td>...</td>\n",
       "    </tr>\n",
       "    <tr>\n",
       "      <th>21150</th>\n",
       "      <td>왕의 우물이란 무엇인가요?</td>\n",
       "      <td>왕의 우물, 즉 왕실에서 쓰던 우물은 어정, 혹은 왕정이라고 부르며 한자로는 御井,...</td>\n",
       "      <td>https://kin.naver.com/qna/detail.naver?d1id=11...</td>\n",
       "    </tr>\n",
       "    <tr>\n",
       "      <th>21151</th>\n",
       "      <td>한 달의 첫째 주가 어떻게 정의되는가?\\n매달 첫째주가 되는 기준은 무엇인지 궁금합...</td>\n",
       "      <td>한 주의 시작이 일요일인지 월요일인지에 따라 첫째 주를 정의해야 합니다. 영어권에서...</td>\n",
       "      <td>https://kin.naver.com/qna/detail.naver?d1id=6&amp;...</td>\n",
       "    </tr>\n",
       "    <tr>\n",
       "      <th>21152</th>\n",
       "      <td>산모와 태아가 혈액형이 다를 때 문제가 없는 이유는 무엇인가요?</td>\n",
       "      <td>산모와 태아가 탯줄과 태반을 통해 직접적으로 혈액을 교환하지 않고, 산모의 태반에서...</td>\n",
       "      <td>https://kin.naver.com/qna/detail.naver?d1id=7&amp;...</td>\n",
       "    </tr>\n",
       "    <tr>\n",
       "      <th>21153</th>\n",
       "      <td>의자의 쇠 부분을 만지면 왜 정전기가 발생할까요?</td>\n",
       "      <td>의자의 쇠 부분을 만지면 정전기가 발생하는 이유는 의자가 땅에서 절연되어 있기 때문...</td>\n",
       "      <td>https://kin.naver.com/qna/detail.naver?d1id=11...</td>\n",
       "    </tr>\n",
       "    <tr>\n",
       "      <th>21154</th>\n",
       "      <td>캔 우유가 없는 이유는 무엇인가요?</td>\n",
       "      <td>캔 우유가 없어진 이유는 유통과 보관에서 발생하는 문제와 우유에 포함된 미네랄 성분...</td>\n",
       "      <td>https://kin.naver.com/qna/detail.naver?d1id=13...</td>\n",
       "    </tr>\n",
       "  </tbody>\n",
       "</table>\n",
       "<p>21155 rows × 3 columns</p>\n",
       "</div>"
      ],
      "text/plain": [
       "                                             instruction  \\\n",
       "0                       양파는 어떤 식물 부위인가요? 그리고 고구마는 뿌리인가요?   \n",
       "1                                  스웨터의 유래는 어디에서 시작되었나요?   \n",
       "2      토성의 고리가 빛의 띠로 보이는 이유는 무엇인가요?  \\n\\n토성의 고리는 얼음과 ...   \n",
       "3      화장품 OEM과 화장품 ODM의 차이점은 무엇인가요?\\n화장품 자체 제조 브랜드 런...   \n",
       "4      '사이보그'는 언제 처음 등장한 말이며, 그 의미와 종류에는 어떤 것이 있는지 알고...   \n",
       "...                                                  ...   \n",
       "21150                                     왕의 우물이란 무엇인가요?   \n",
       "21151  한 달의 첫째 주가 어떻게 정의되는가?\\n매달 첫째주가 되는 기준은 무엇인지 궁금합...   \n",
       "21152                산모와 태아가 혈액형이 다를 때 문제가 없는 이유는 무엇인가요?   \n",
       "21153                        의자의 쇠 부분을 만지면 왜 정전기가 발생할까요?   \n",
       "21154                                캔 우유가 없는 이유는 무엇인가요?   \n",
       "\n",
       "                                                  output  \\\n",
       "0      양파는 잎이 아닌 식물의 줄기 부분입니다. 고구마는 식물의 뿌리 부분입니다. \\n\\...   \n",
       "1      스웨터의 유래는 14세기경 북유럽항구지역에서 어망을 짜던 기술을 의복에 활용하면서 ...   \n",
       "2      토성의 고리가 미세한 입자들로 이루어져 있기 때문에, 입자들의 밀도 차이 때문에 카...   \n",
       "3      화장품 제조업체는 대체로 OEM과 ODM을 통해 제품을 만듭니다. OEM은 브랜드에...   \n",
       "4      '사이보그'는 1960년에 처음 등장한 말로, 기계와 유기체가 합성되어 생겨난 새로...   \n",
       "...                                                  ...   \n",
       "21150  왕의 우물, 즉 왕실에서 쓰던 우물은 어정, 혹은 왕정이라고 부르며 한자로는 御井,...   \n",
       "21151  한 주의 시작이 일요일인지 월요일인지에 따라 첫째 주를 정의해야 합니다. 영어권에서...   \n",
       "21152  산모와 태아가 탯줄과 태반을 통해 직접적으로 혈액을 교환하지 않고, 산모의 태반에서...   \n",
       "21153  의자의 쇠 부분을 만지면 정전기가 발생하는 이유는 의자가 땅에서 절연되어 있기 때문...   \n",
       "21154  캔 우유가 없어진 이유는 유통과 보관에서 발생하는 문제와 우유에 포함된 미네랄 성분...   \n",
       "\n",
       "                                                     url  \n",
       "0      https://kin.naver.com/qna/detail.naver?d1id=11...  \n",
       "1      https://kin.naver.com/qna/detail.naver?d1id=11...  \n",
       "2      https://kin.naver.com/qna/detail.naver?d1id=11...  \n",
       "3      https://kin.naver.com/qna/detail.naver?d1id=5&...  \n",
       "4      https://kin.naver.com/qna/detail.naver?d1id=11...  \n",
       "...                                                  ...  \n",
       "21150  https://kin.naver.com/qna/detail.naver?d1id=11...  \n",
       "21151  https://kin.naver.com/qna/detail.naver?d1id=6&...  \n",
       "21152  https://kin.naver.com/qna/detail.naver?d1id=7&...  \n",
       "21153  https://kin.naver.com/qna/detail.naver?d1id=11...  \n",
       "21154  https://kin.naver.com/qna/detail.naver?d1id=13...  \n",
       "\n",
       "[21155 rows x 3 columns]"
      ]
     },
     "execution_count": 7,
     "metadata": {},
     "output_type": "execute_result"
    }
   ],
   "source": [
    "import pandas as pd\n",
    "# 데이터셋을 pandas DataFrame으로 변환\n",
    "df = pd.DataFrame(data['train'])\n",
    "df"
   ]
  },
  {
   "cell_type": "code",
   "execution_count": 8,
   "id": "a4f9ba08-a235-4bdc-b5af-43c7730ea6c8",
   "metadata": {
    "tags": []
   },
   "outputs": [
    {
     "name": "stdout",
     "output_type": "stream",
     "text": [
      "       instruction_length  output_length    url_length\n",
      "count        21155.000000   21155.000000  21155.000000\n",
      "mean            69.949374     356.147483     72.861309\n",
      "std             49.659239     157.163702      1.916784\n",
      "min              9.000000       1.000000     68.000000\n",
      "25%             34.000000     252.000000     72.000000\n",
      "50%             55.000000     322.000000     73.000000\n",
      "75%             92.000000     425.000000     74.000000\n",
      "max            711.000000    2405.000000     79.000000\n"
     ]
    },
    {
     "data": {
      "text/html": [
       "<div>\n",
       "<style scoped>\n",
       "    .dataframe tbody tr th:only-of-type {\n",
       "        vertical-align: middle;\n",
       "    }\n",
       "\n",
       "    .dataframe tbody tr th {\n",
       "        vertical-align: top;\n",
       "    }\n",
       "\n",
       "    .dataframe thead th {\n",
       "        text-align: right;\n",
       "    }\n",
       "</style>\n",
       "<table border=\"1\" class=\"dataframe\">\n",
       "  <thead>\n",
       "    <tr style=\"text-align: right;\">\n",
       "      <th></th>\n",
       "      <th>instruction</th>\n",
       "      <th>output</th>\n",
       "      <th>url</th>\n",
       "      <th>instruction_length</th>\n",
       "      <th>output_length</th>\n",
       "      <th>url_length</th>\n",
       "    </tr>\n",
       "  </thead>\n",
       "  <tbody>\n",
       "    <tr>\n",
       "      <th>0</th>\n",
       "      <td>양파는 어떤 식물 부위인가요? 그리고 고구마는 뿌리인가요?</td>\n",
       "      <td>양파는 잎이 아닌 식물의 줄기 부분입니다. 고구마는 식물의 뿌리 부분입니다. \\n\\...</td>\n",
       "      <td>https://kin.naver.com/qna/detail.naver?d1id=11...</td>\n",
       "      <td>32</td>\n",
       "      <td>342</td>\n",
       "      <td>72</td>\n",
       "    </tr>\n",
       "    <tr>\n",
       "      <th>1</th>\n",
       "      <td>스웨터의 유래는 어디에서 시작되었나요?</td>\n",
       "      <td>스웨터의 유래는 14세기경 북유럽항구지역에서 어망을 짜던 기술을 의복에 활용하면서 ...</td>\n",
       "      <td>https://kin.naver.com/qna/detail.naver?d1id=11...</td>\n",
       "      <td>21</td>\n",
       "      <td>288</td>\n",
       "      <td>76</td>\n",
       "    </tr>\n",
       "    <tr>\n",
       "      <th>2</th>\n",
       "      <td>토성의 고리가 빛의 띠로 보이는 이유는 무엇인가요?  \\n\\n토성의 고리는 얼음과 ...</td>\n",
       "      <td>토성의 고리가 미세한 입자들로 이루어져 있기 때문에, 입자들의 밀도 차이 때문에 카...</td>\n",
       "      <td>https://kin.naver.com/qna/detail.naver?d1id=11...</td>\n",
       "      <td>268</td>\n",
       "      <td>524</td>\n",
       "      <td>73</td>\n",
       "    </tr>\n",
       "    <tr>\n",
       "      <th>3</th>\n",
       "      <td>화장품 OEM과 화장품 ODM의 차이점은 무엇인가요?\\n화장품 자체 제조 브랜드 런...</td>\n",
       "      <td>화장품 제조업체는 대체로 OEM과 ODM을 통해 제품을 만듭니다. OEM은 브랜드에...</td>\n",
       "      <td>https://kin.naver.com/qna/detail.naver?d1id=5&amp;...</td>\n",
       "      <td>107</td>\n",
       "      <td>371</td>\n",
       "      <td>75</td>\n",
       "    </tr>\n",
       "    <tr>\n",
       "      <th>4</th>\n",
       "      <td>'사이보그'는 언제 처음 등장한 말이며, 그 의미와 종류에는 어떤 것이 있는지 알고...</td>\n",
       "      <td>'사이보그'는 1960년에 처음 등장한 말로, 기계와 유기체가 합성되어 생겨난 새로...</td>\n",
       "      <td>https://kin.naver.com/qna/detail.naver?d1id=11...</td>\n",
       "      <td>52</td>\n",
       "      <td>438</td>\n",
       "      <td>74</td>\n",
       "    </tr>\n",
       "    <tr>\n",
       "      <th>...</th>\n",
       "      <td>...</td>\n",
       "      <td>...</td>\n",
       "      <td>...</td>\n",
       "      <td>...</td>\n",
       "      <td>...</td>\n",
       "      <td>...</td>\n",
       "    </tr>\n",
       "    <tr>\n",
       "      <th>21150</th>\n",
       "      <td>왕의 우물이란 무엇인가요?</td>\n",
       "      <td>왕의 우물, 즉 왕실에서 쓰던 우물은 어정, 혹은 왕정이라고 부르며 한자로는 御井,...</td>\n",
       "      <td>https://kin.naver.com/qna/detail.naver?d1id=11...</td>\n",
       "      <td>14</td>\n",
       "      <td>204</td>\n",
       "      <td>74</td>\n",
       "    </tr>\n",
       "    <tr>\n",
       "      <th>21151</th>\n",
       "      <td>한 달의 첫째 주가 어떻게 정의되는가?\\n매달 첫째주가 되는 기준은 무엇인지 궁금합...</td>\n",
       "      <td>한 주의 시작이 일요일인지 월요일인지에 따라 첫째 주를 정의해야 합니다. 영어권에서...</td>\n",
       "      <td>https://kin.naver.com/qna/detail.naver?d1id=6&amp;...</td>\n",
       "      <td>94</td>\n",
       "      <td>301</td>\n",
       "      <td>73</td>\n",
       "    </tr>\n",
       "    <tr>\n",
       "      <th>21152</th>\n",
       "      <td>산모와 태아가 혈액형이 다를 때 문제가 없는 이유는 무엇인가요?</td>\n",
       "      <td>산모와 태아가 탯줄과 태반을 통해 직접적으로 혈액을 교환하지 않고, 산모의 태반에서...</td>\n",
       "      <td>https://kin.naver.com/qna/detail.naver?d1id=7&amp;...</td>\n",
       "      <td>35</td>\n",
       "      <td>415</td>\n",
       "      <td>70</td>\n",
       "    </tr>\n",
       "    <tr>\n",
       "      <th>21153</th>\n",
       "      <td>의자의 쇠 부분을 만지면 왜 정전기가 발생할까요?</td>\n",
       "      <td>의자의 쇠 부분을 만지면 정전기가 발생하는 이유는 의자가 땅에서 절연되어 있기 때문...</td>\n",
       "      <td>https://kin.naver.com/qna/detail.naver?d1id=11...</td>\n",
       "      <td>27</td>\n",
       "      <td>396</td>\n",
       "      <td>73</td>\n",
       "    </tr>\n",
       "    <tr>\n",
       "      <th>21154</th>\n",
       "      <td>캔 우유가 없는 이유는 무엇인가요?</td>\n",
       "      <td>캔 우유가 없어진 이유는 유통과 보관에서 발생하는 문제와 우유에 포함된 미네랄 성분...</td>\n",
       "      <td>https://kin.naver.com/qna/detail.naver?d1id=13...</td>\n",
       "      <td>19</td>\n",
       "      <td>297</td>\n",
       "      <td>75</td>\n",
       "    </tr>\n",
       "  </tbody>\n",
       "</table>\n",
       "<p>21155 rows × 6 columns</p>\n",
       "</div>"
      ],
      "text/plain": [
       "                                             instruction  \\\n",
       "0                       양파는 어떤 식물 부위인가요? 그리고 고구마는 뿌리인가요?   \n",
       "1                                  스웨터의 유래는 어디에서 시작되었나요?   \n",
       "2      토성의 고리가 빛의 띠로 보이는 이유는 무엇인가요?  \\n\\n토성의 고리는 얼음과 ...   \n",
       "3      화장품 OEM과 화장품 ODM의 차이점은 무엇인가요?\\n화장품 자체 제조 브랜드 런...   \n",
       "4      '사이보그'는 언제 처음 등장한 말이며, 그 의미와 종류에는 어떤 것이 있는지 알고...   \n",
       "...                                                  ...   \n",
       "21150                                     왕의 우물이란 무엇인가요?   \n",
       "21151  한 달의 첫째 주가 어떻게 정의되는가?\\n매달 첫째주가 되는 기준은 무엇인지 궁금합...   \n",
       "21152                산모와 태아가 혈액형이 다를 때 문제가 없는 이유는 무엇인가요?   \n",
       "21153                        의자의 쇠 부분을 만지면 왜 정전기가 발생할까요?   \n",
       "21154                                캔 우유가 없는 이유는 무엇인가요?   \n",
       "\n",
       "                                                  output  \\\n",
       "0      양파는 잎이 아닌 식물의 줄기 부분입니다. 고구마는 식물의 뿌리 부분입니다. \\n\\...   \n",
       "1      스웨터의 유래는 14세기경 북유럽항구지역에서 어망을 짜던 기술을 의복에 활용하면서 ...   \n",
       "2      토성의 고리가 미세한 입자들로 이루어져 있기 때문에, 입자들의 밀도 차이 때문에 카...   \n",
       "3      화장품 제조업체는 대체로 OEM과 ODM을 통해 제품을 만듭니다. OEM은 브랜드에...   \n",
       "4      '사이보그'는 1960년에 처음 등장한 말로, 기계와 유기체가 합성되어 생겨난 새로...   \n",
       "...                                                  ...   \n",
       "21150  왕의 우물, 즉 왕실에서 쓰던 우물은 어정, 혹은 왕정이라고 부르며 한자로는 御井,...   \n",
       "21151  한 주의 시작이 일요일인지 월요일인지에 따라 첫째 주를 정의해야 합니다. 영어권에서...   \n",
       "21152  산모와 태아가 탯줄과 태반을 통해 직접적으로 혈액을 교환하지 않고, 산모의 태반에서...   \n",
       "21153  의자의 쇠 부분을 만지면 정전기가 발생하는 이유는 의자가 땅에서 절연되어 있기 때문...   \n",
       "21154  캔 우유가 없어진 이유는 유통과 보관에서 발생하는 문제와 우유에 포함된 미네랄 성분...   \n",
       "\n",
       "                                                     url  instruction_length  \\\n",
       "0      https://kin.naver.com/qna/detail.naver?d1id=11...                  32   \n",
       "1      https://kin.naver.com/qna/detail.naver?d1id=11...                  21   \n",
       "2      https://kin.naver.com/qna/detail.naver?d1id=11...                 268   \n",
       "3      https://kin.naver.com/qna/detail.naver?d1id=5&...                 107   \n",
       "4      https://kin.naver.com/qna/detail.naver?d1id=11...                  52   \n",
       "...                                                  ...                 ...   \n",
       "21150  https://kin.naver.com/qna/detail.naver?d1id=11...                  14   \n",
       "21151  https://kin.naver.com/qna/detail.naver?d1id=6&...                  94   \n",
       "21152  https://kin.naver.com/qna/detail.naver?d1id=7&...                  35   \n",
       "21153  https://kin.naver.com/qna/detail.naver?d1id=11...                  27   \n",
       "21154  https://kin.naver.com/qna/detail.naver?d1id=13...                  19   \n",
       "\n",
       "       output_length  url_length  \n",
       "0                342          72  \n",
       "1                288          76  \n",
       "2                524          73  \n",
       "3                371          75  \n",
       "4                438          74  \n",
       "...              ...         ...  \n",
       "21150            204          74  \n",
       "21151            301          73  \n",
       "21152            415          70  \n",
       "21153            396          73  \n",
       "21154            297          75  \n",
       "\n",
       "[21155 rows x 6 columns]"
      ]
     },
     "execution_count": 8,
     "metadata": {},
     "output_type": "execute_result"
    }
   ],
   "source": [
    "# 문장 길이, 단어 수 등 기본 통계량 계산\n",
    "df['instruction_length'] = df['instruction'].apply(len)\n",
    "df['output_length'] = df['output'].apply(len)\n",
    "df['url_length'] = df['url'].apply(len)\n",
    "print(df.describe())\n",
    "df"
   ]
  },
  {
   "cell_type": "markdown",
   "id": "58082fb4-32ae-414a-984c-b3e4dd29cab1",
   "metadata": {},
   "source": [
    "### 문장 길이, 단어 빈도 등을 시각화"
   ]
  },
  {
   "cell_type": "code",
   "execution_count": 9,
   "id": "9bfc930b-ee60-44df-9acd-3fa8726a9c1f",
   "metadata": {
    "tags": []
   },
   "outputs": [
    {
     "data": {
      "image/png": "[encoded data removed]",
      "text/plain": [
       "<Figure size 640x480 with 1 Axes>"
      ]
     },
     "metadata": {},
     "output_type": "display_data"
    }
   ],
   "source": [
    "import matplotlib.pyplot as plt\n",
    "\n",
    "# 문장 길이 분포 시각화\n",
    "plt.hist(df['instruction_length'], bins=50, alpha=0.5, label='Instruction Length')\n",
    "plt.hist(df['url_length'], bins=50, alpha=0.5, label='url length')\n",
    "plt.hist(df['output_length'], bins=50, alpha=0.5, label='Output Length')\n",
    "plt.legend(loc='upper right')\n",
    "plt.show()"
   ]
  },
  {
   "cell_type": "markdown",
   "id": "beab28a1-02ea-45fc-bc26-b6cf430c3e0c",
   "metadata": {},
   "source": [
    "### 고유 단어 및 빈도수 분석"
   ]
  },
  {
   "cell_type": "code",
   "execution_count": 10,
   "id": "b051f175-0fa7-4ee5-a1e7-060ac8569f5c",
   "metadata": {
    "tags": []
   },
   "outputs": [
    {
     "name": "stdout",
     "output_type": "stream",
     "text": [
      "가장 자주 등장하는 단어 10개 :  [('무엇인가요?', 6489), ('왜', 5465), ('어떤', 4402), ('궁금합니다.', 3568), ('어떻게', 3438), ('수', 3026), ('이유는', 2633), ('있는', 2286), ('있을까요?', 2265), ('있나요?', 1991)]\n",
      "\n",
      "\n",
      "가장 드물게 등장하는 단어 10개 :  [('산모와', 1), ('과반수', 1), ('첫째주가', 1), ('정의되는가?', 1), ('우물이란', 1), ('구사하는', 1), ('충주만큼', 1), ('전국팔도에서도', 1), ('충주는', 1), ('옆비늘을', 1)]\n"
     ]
    }
   ],
   "source": [
    "from collections import Counter\n",
    "\n",
    "# 모든 문장을 단어로 분리\n",
    "all_words = ' '.join(df['instruction']).split()\n",
    "\n",
    "# 단어 빈도수 계산\n",
    "word_freq = Counter(all_words)\n",
    "\n",
    "# 가장 자주 등장하는 단어 10개\n",
    "print('가장 자주 등장하는 단어 10개 : ', word_freq.most_common(10))\n",
    "print('\\n')\n",
    "# 가장 드물게 등장하는 단어 10개\n",
    "print('가장 드물게 등장하는 단어 10개 : ', word_freq.most_common()[:-11:-1])"
   ]
  },
  {
   "cell_type": "markdown",
   "id": "2a0a1f90-5333-4cf3-bb23-d92aa421c0c8",
   "metadata": {},
   "source": [
    "## Chunk\n",
    "\n",
    "- 정의: 청킹은 비구조화된 텍스트에서 구(phrase)나 \"청크\"를 추출하는 과정입니다. 토큰화가 텍스트를 개별 단어로 분할하는 반면, 청킹은 의미 있는 구나 문법 단위(예: 명사구, 동사구)를 추출하는 것을 목표로 합니다.\n",
    "\n",
    "- 사용 사례:\n",
    "\n",
    "명명된 엔터티 인식 (NER)\n",
    "\n",
    "관계 추출\n",
    "\n",
    "대용어 해소\n",
    "\n",
    "- 예시:\n",
    "\n",
    "입력: \"빠른 갈색 여우가 게으른 개를 뛰어넘습니다.\"\n",
    "\n",
    "청크: [(\"빠른 갈색 여우가\", \"NP\"), (\"뛰어넘습니다\", \"VP\"), (\"게으른 개를\", \"NP\")]\n",
    "\n",
    "- 장점:\n",
    "\n",
    "토큰화에 비해 더 많은 문맥과 의미적 의미를 유지\n",
    "\n",
    "텍스트 구조를 이해해야 하는 복잡한 NLP 작업에 유용\n",
    "\n",
    "- 단점:\n",
    "\n",
    "계산적으로 더 복잡\n",
    "\n",
    "더 정교한 알고리즘 또는 모델이 필요할 수 있음"
   ]
  },
  {
   "cell_type": "markdown",
   "id": "223f9b18-f5b4-4bc2-a1e9-d3955237bdc6",
   "metadata": {},
   "source": [
    "토큰화와 청킹은 모두 텍스트 분할을 위한 기술이지만, 다른 목적을 가지고 있으며 다른 NLP 작업에 유용합니다. 토큰화는 일반적으로 더 단순하고 빠르지만, 청킹은 더 깊은 이해를 제공합니다. 또한, 토큰화는 텍스트를 가장 작은 단위로 나누는 과정이며, 청킹은 이러한 토큰을 묶어서 더 큰 의미나 구조를 가진 단위로 만드는 과정입니다."
   ]
  },
  {
   "cell_type": "code",
   "execution_count": 11,
   "id": "82f51bbf-9329-435a-8b8f-5bcf639d0a75",
   "metadata": {
    "tags": []
   },
   "outputs": [],
   "source": [
    "from random import randint\n",
    "from itertools import chain\n",
    "from functools import partial\n",
    "\n",
    "# template dataset to add prompt to each sample\n",
    "def template_dataset(data_point):\n",
    "    full_prompt = prompter.generate_prompt(\n",
    "        data_point[\"instruction\"],\n",
    "        data_point.get(\"input\"),\n",
    "        data_point[\"output\"],\n",
    "    )\n",
    "    data_point['text'] = full_prompt\n",
    "    return data_point\n",
    "\n",
    "def chunk(sample, chunk_length=2048):\n",
    "    # define global remainder variable to save remainder from batches to use in next batch\n",
    "    global remainder\n",
    "    # Concatenate all texts and add remainder from previous batch\n",
    "    concatenated_examples = {k: list(chain(*sample[k])) for k in sample.keys()}\n",
    "    concatenated_examples = {k: remainder[k] + concatenated_examples[k] for k in concatenated_examples.keys()}\n",
    "    # get total number of tokens for batch\n",
    "    batch_total_length = len(concatenated_examples[list(sample.keys())[0]])\n",
    "\n",
    "    # get max number of chunks for batch\n",
    "    if batch_total_length >= chunk_length:\n",
    "        batch_chunk_length = (batch_total_length // chunk_length) * chunk_length\n",
    "\n",
    "    # Split by chunks of max_len.\n",
    "    result = {\n",
    "        k: [t[i : i + chunk_length] for i in range(0, batch_chunk_length, chunk_length)]\n",
    "        for k, t in concatenated_examples.items()\n",
    "    }\n",
    "    # add remainder to global variable for next batch\n",
    "    remainder = {k: concatenated_examples[k][batch_chunk_length:] for k in concatenated_examples.keys()}\n",
    "    # prepare labels\n",
    "    result[\"labels\"] = result[\"input_ids\"].copy()\n",
    "    return result"
   ]
  },
  {
   "cell_type": "code",
   "execution_count": 12,
   "id": "39292464-cc65-494f-965a-9583dba71302",
   "metadata": {
    "tags": []
   },
   "outputs": [
    {
     "data": {
      "application/vnd.jupyter.widget-view+json": {
       "model_id": "6db80d5b15564bf4b6137df407d9f070",
       "version_major": 2,
       "version_minor": 0
      },
      "text/plain": [
       "Map:   0%|          | 0/21155 [00:00<?, ? examples/s]"
      ]
     },
     "metadata": {},
     "output_type": "display_data"
    },
    {
     "name": "stderr",
     "output_type": "stream",
     "text": [
      "Parameter 'function'=<function <lambda> at 0x7f9603d6ad40> of the transform datasets.arrow_dataset.Dataset._map_single couldn't be hashed properly, a random hash was used instead. Make sure your transforms and parameters are serializable with pickle or dill for the dataset fingerprinting and caching to work. If you reuse this transform, the caching mechanism will consider it to be different from the previous calls and recompute everything. This warning is only showed once. Subsequent hashing failures won't be showed.\n"
     ]
    },
    {
     "data": {
      "application/vnd.jupyter.widget-view+json": {
       "model_id": "cc53eadc64d0401aa07446c97a8ac9a3",
       "version_major": 2,
       "version_minor": 0
      },
      "text/plain": [
       "Map:   0%|          | 0/21155 [00:00<?, ? examples/s]"
      ]
     },
     "metadata": {},
     "output_type": "display_data"
    },
    {
     "data": {
      "application/vnd.jupyter.widget-view+json": {
       "model_id": "ca76d2cbbb784158b219f838e32d14bb",
       "version_major": 2,
       "version_minor": 0
      },
      "text/plain": [
       "Map:   0%|          | 0/21155 [00:00<?, ? examples/s]"
      ]
     },
     "metadata": {},
     "output_type": "display_data"
    },
    {
     "name": "stdout",
     "output_type": "stream",
     "text": [
      "Total number of samples: 3586\n"
     ]
    }
   ],
   "source": [
    "dataset = data['train'].shuffle()#.select(range(200))\n",
    "dataset = dataset.map(template_dataset, remove_columns=list(dataset.features))\n",
    "\n",
    "# empty list to save remainder from batches to use in next batch\n",
    "remainder = {\"input_ids\": [], \"attention_mask\": []}\n",
    "\n",
    "# tokenize and chunk dataset\n",
    "lm_dataset = dataset.map(\n",
    "    lambda sample: tokenizer(sample[\"text\"]), batched=True, remove_columns=list(dataset.features)\n",
    ").map(\n",
    "    partial(chunk, chunk_length=1536),\n",
    "    batched=True,\n",
    ")\n",
    "\n",
    "# Print total number of samples\n",
    "print(f\"Total number of samples: {len(lm_dataset)}\")"
   ]
  },
  {
   "cell_type": "markdown",
   "id": "eb98487c-b1c1-4594-b2a3-73b8ef38d201",
   "metadata": {},
   "source": [
    "## chunking data 확인"
   ]
  },
  {
   "cell_type": "code",
   "execution_count": 13,
   "id": "c8c316c6-8493-4e0d-adec-0fb2a7c0f98e",
   "metadata": {
    "tags": []
   },
   "outputs": [
    {
     "data": {
      "text/html": [
       "<div>\n",
       "<style scoped>\n",
       "    .dataframe tbody tr th:only-of-type {\n",
       "        vertical-align: middle;\n",
       "    }\n",
       "\n",
       "    .dataframe tbody tr th {\n",
       "        vertical-align: top;\n",
       "    }\n",
       "\n",
       "    .dataframe thead th {\n",
       "        text-align: right;\n",
       "    }\n",
       "</style>\n",
       "<table border=\"1\" class=\"dataframe\">\n",
       "  <thead>\n",
       "    <tr style=\"text-align: right;\">\n",
       "      <th></th>\n",
       "      <th>input_ids</th>\n",
       "      <th>attention_mask</th>\n",
       "      <th>labels</th>\n",
       "    </tr>\n",
       "  </thead>\n",
       "  <tbody>\n",
       "    <tr>\n",
       "      <th>0</th>\n",
       "      <td>[12657, 272, 2236, 276, 1251, 284, 272, 5026, ...</td>\n",
       "      <td>[1, 1, 1, 1, 1, 1, 1, 1, 1, 1, 1, 1, 1, 1, 1, ...</td>\n",
       "      <td>[12657, 272, 2236, 276, 1251, 284, 272, 5026, ...</td>\n",
       "    </tr>\n",
       "    <tr>\n",
       "      <th>1</th>\n",
       "      <td>[17, 2357, 276, 15296, 3709, 284, 272, 3711, 2...</td>\n",
       "      <td>[1, 1, 1, 1, 1, 1, 1, 1, 1, 1, 1, 1, 1, 1, 1, ...</td>\n",
       "      <td>[17, 2357, 276, 15296, 3709, 284, 272, 3711, 2...</td>\n",
       "    </tr>\n",
       "    <tr>\n",
       "      <th>2</th>\n",
       "      <td>[6265, 1383, 768, 316, 5954, 365, 327, 827, 17...</td>\n",
       "      <td>[1, 1, 1, 1, 1, 1, 1, 1, 1, 1, 1, 1, 1, 1, 1, ...</td>\n",
       "      <td>[6265, 1383, 768, 316, 5954, 365, 327, 827, 17...</td>\n",
       "    </tr>\n",
       "    <tr>\n",
       "      <th>3</th>\n",
       "      <td>[105, 12, 339, 1203, 605, 450, 827, 17, 1252, ...</td>\n",
       "      <td>[1, 1, 1, 1, 1, 1, 1, 1, 1, 1, 1, 1, 1, 1, 1, ...</td>\n",
       "      <td>[105, 12, 339, 1203, 605, 450, 827, 17, 1252, ...</td>\n",
       "    </tr>\n",
       "    <tr>\n",
       "      <th>4</th>\n",
       "      <td>[7326, 309, 1466, 9715, 234, 1585, 20, 80, 838...</td>\n",
       "      <td>[1, 1, 1, 1, 1, 1, 1, 1, 1, 1, 1, 1, 1, 1, 1, ...</td>\n",
       "      <td>[7326, 309, 1466, 9715, 234, 1585, 20, 80, 838...</td>\n",
       "    </tr>\n",
       "    <tr>\n",
       "      <th>...</th>\n",
       "      <td>...</td>\n",
       "      <td>...</td>\n",
       "      <td>...</td>\n",
       "    </tr>\n",
       "    <tr>\n",
       "      <th>3581</th>\n",
       "      <td>[17, 2357, 276, 15296, 3709, 284, 272, 3711, 2...</td>\n",
       "      <td>[1, 1, 1, 1, 1, 1, 1, 1, 1, 1, 1, 1, 1, 1, 1, ...</td>\n",
       "      <td>[17, 2357, 276, 15296, 3709, 284, 272, 3711, 2...</td>\n",
       "    </tr>\n",
       "    <tr>\n",
       "      <th>3582</th>\n",
       "      <td>[2585, 363, 7007, 1522, 605, 272, 1579, 11139,...</td>\n",
       "      <td>[1, 1, 1, 1, 1, 1, 1, 1, 1, 1, 1, 1, 1, 1, 1, ...</td>\n",
       "      <td>[2585, 363, 7007, 1522, 605, 272, 1579, 11139,...</td>\n",
       "    </tr>\n",
       "    <tr>\n",
       "      <th>3583</th>\n",
       "      <td>[6, 3711, 29, 202, 852, 348, 285, 1333, 407, 2...</td>\n",
       "      <td>[1, 1, 1, 1, 1, 1, 1, 1, 1, 1, 1, 1, 1, 1, 1, ...</td>\n",
       "      <td>[6, 3711, 29, 202, 852, 348, 285, 1333, 407, 2...</td>\n",
       "    </tr>\n",
       "    <tr>\n",
       "      <th>3584</th>\n",
       "      <td>[10157, 285, 454, 3967, 365, 327, 272, 2873, 3...</td>\n",
       "      <td>[1, 1, 1, 1, 1, 1, 1, 1, 1, 1, 1, 1, 1, 1, 1, ...</td>\n",
       "      <td>[10157, 285, 454, 3967, 365, 327, 272, 2873, 3...</td>\n",
       "    </tr>\n",
       "    <tr>\n",
       "      <th>3585</th>\n",
       "      <td>[76, 15, 760, 942, 500, 15, 12727, 272, 1176, ...</td>\n",
       "      <td>[1, 1, 1, 1, 1, 1, 1, 1, 1, 1, 1, 1, 1, 1, 1, ...</td>\n",
       "      <td>[76, 15, 760, 942, 500, 15, 12727, 272, 1176, ...</td>\n",
       "    </tr>\n",
       "  </tbody>\n",
       "</table>\n",
       "<p>3586 rows × 3 columns</p>\n",
       "</div>"
      ],
      "text/plain": [
       "                                              input_ids  \\\n",
       "0     [12657, 272, 2236, 276, 1251, 284, 272, 5026, ...   \n",
       "1     [17, 2357, 276, 15296, 3709, 284, 272, 3711, 2...   \n",
       "2     [6265, 1383, 768, 316, 5954, 365, 327, 827, 17...   \n",
       "3     [105, 12, 339, 1203, 605, 450, 827, 17, 1252, ...   \n",
       "4     [7326, 309, 1466, 9715, 234, 1585, 20, 80, 838...   \n",
       "...                                                 ...   \n",
       "3581  [17, 2357, 276, 15296, 3709, 284, 272, 3711, 2...   \n",
       "3582  [2585, 363, 7007, 1522, 605, 272, 1579, 11139,...   \n",
       "3583  [6, 3711, 29, 202, 852, 348, 285, 1333, 407, 2...   \n",
       "3584  [10157, 285, 454, 3967, 365, 327, 272, 2873, 3...   \n",
       "3585  [76, 15, 760, 942, 500, 15, 12727, 272, 1176, ...   \n",
       "\n",
       "                                         attention_mask  \\\n",
       "0     [1, 1, 1, 1, 1, 1, 1, 1, 1, 1, 1, 1, 1, 1, 1, ...   \n",
       "1     [1, 1, 1, 1, 1, 1, 1, 1, 1, 1, 1, 1, 1, 1, 1, ...   \n",
       "2     [1, 1, 1, 1, 1, 1, 1, 1, 1, 1, 1, 1, 1, 1, 1, ...   \n",
       "3     [1, 1, 1, 1, 1, 1, 1, 1, 1, 1, 1, 1, 1, 1, 1, ...   \n",
       "4     [1, 1, 1, 1, 1, 1, 1, 1, 1, 1, 1, 1, 1, 1, 1, ...   \n",
       "...                                                 ...   \n",
       "3581  [1, 1, 1, 1, 1, 1, 1, 1, 1, 1, 1, 1, 1, 1, 1, ...   \n",
       "3582  [1, 1, 1, 1, 1, 1, 1, 1, 1, 1, 1, 1, 1, 1, 1, ...   \n",
       "3583  [1, 1, 1, 1, 1, 1, 1, 1, 1, 1, 1, 1, 1, 1, 1, ...   \n",
       "3584  [1, 1, 1, 1, 1, 1, 1, 1, 1, 1, 1, 1, 1, 1, 1, ...   \n",
       "3585  [1, 1, 1, 1, 1, 1, 1, 1, 1, 1, 1, 1, 1, 1, 1, ...   \n",
       "\n",
       "                                                 labels  \n",
       "0     [12657, 272, 2236, 276, 1251, 284, 272, 5026, ...  \n",
       "1     [17, 2357, 276, 15296, 3709, 284, 272, 3711, 2...  \n",
       "2     [6265, 1383, 768, 316, 5954, 365, 327, 827, 17...  \n",
       "3     [105, 12, 339, 1203, 605, 450, 827, 17, 1252, ...  \n",
       "4     [7326, 309, 1466, 9715, 234, 1585, 20, 80, 838...  \n",
       "...                                                 ...  \n",
       "3581  [17, 2357, 276, 15296, 3709, 284, 272, 3711, 2...  \n",
       "3582  [2585, 363, 7007, 1522, 605, 272, 1579, 11139,...  \n",
       "3583  [6, 3711, 29, 202, 852, 348, 285, 1333, 407, 2...  \n",
       "3584  [10157, 285, 454, 3967, 365, 327, 272, 2873, 3...  \n",
       "3585  [76, 15, 760, 942, 500, 15, 12727, 272, 1176, ...  \n",
       "\n",
       "[3586 rows x 3 columns]"
      ]
     },
     "execution_count": 13,
     "metadata": {},
     "output_type": "execute_result"
    }
   ],
   "source": [
    "df_lm = lm_dataset.to_pandas()\n",
    "df_lm"
   ]
  },
  {
   "cell_type": "code",
   "execution_count": 14,
   "id": "d8c646dd-0a34-4051-ab6b-428043854288",
   "metadata": {
    "tags": []
   },
   "outputs": [
    {
     "data": {
      "text/html": [
       "<div>\n",
       "<style scoped>\n",
       "    .dataframe tbody tr th:only-of-type {\n",
       "        vertical-align: middle;\n",
       "    }\n",
       "\n",
       "    .dataframe tbody tr th {\n",
       "        vertical-align: top;\n",
       "    }\n",
       "\n",
       "    .dataframe thead th {\n",
       "        text-align: right;\n",
       "    }\n",
       "</style>\n",
       "<table border=\"1\" class=\"dataframe\">\n",
       "  <thead>\n",
       "    <tr style=\"text-align: right;\">\n",
       "      <th></th>\n",
       "      <th>input_ids</th>\n",
       "      <th>attention_mask</th>\n",
       "      <th>labels</th>\n",
       "      <th>input_ids_length</th>\n",
       "    </tr>\n",
       "  </thead>\n",
       "  <tbody>\n",
       "    <tr>\n",
       "      <th>0</th>\n",
       "      <td>[12657, 272, 2236, 276, 1251, 284, 272, 5026, ...</td>\n",
       "      <td>[1, 1, 1, 1, 1, 1, 1, 1, 1, 1, 1, 1, 1, 1, 1, ...</td>\n",
       "      <td>[12657, 272, 2236, 276, 1251, 284, 272, 5026, ...</td>\n",
       "      <td>1536</td>\n",
       "    </tr>\n",
       "    <tr>\n",
       "      <th>1</th>\n",
       "      <td>[17, 2357, 276, 15296, 3709, 284, 272, 3711, 2...</td>\n",
       "      <td>[1, 1, 1, 1, 1, 1, 1, 1, 1, 1, 1, 1, 1, 1, 1, ...</td>\n",
       "      <td>[17, 2357, 276, 15296, 3709, 284, 272, 3711, 2...</td>\n",
       "      <td>1536</td>\n",
       "    </tr>\n",
       "    <tr>\n",
       "      <th>2</th>\n",
       "      <td>[6265, 1383, 768, 316, 5954, 365, 327, 827, 17...</td>\n",
       "      <td>[1, 1, 1, 1, 1, 1, 1, 1, 1, 1, 1, 1, 1, 1, 1, ...</td>\n",
       "      <td>[6265, 1383, 768, 316, 5954, 365, 327, 827, 17...</td>\n",
       "      <td>1536</td>\n",
       "    </tr>\n",
       "    <tr>\n",
       "      <th>3</th>\n",
       "      <td>[105, 12, 339, 1203, 605, 450, 827, 17, 1252, ...</td>\n",
       "      <td>[1, 1, 1, 1, 1, 1, 1, 1, 1, 1, 1, 1, 1, 1, 1, ...</td>\n",
       "      <td>[105, 12, 339, 1203, 605, 450, 827, 17, 1252, ...</td>\n",
       "      <td>1536</td>\n",
       "    </tr>\n",
       "    <tr>\n",
       "      <th>4</th>\n",
       "      <td>[7326, 309, 1466, 9715, 234, 1585, 20, 80, 838...</td>\n",
       "      <td>[1, 1, 1, 1, 1, 1, 1, 1, 1, 1, 1, 1, 1, 1, 1, ...</td>\n",
       "      <td>[7326, 309, 1466, 9715, 234, 1585, 20, 80, 838...</td>\n",
       "      <td>1536</td>\n",
       "    </tr>\n",
       "    <tr>\n",
       "      <th>...</th>\n",
       "      <td>...</td>\n",
       "      <td>...</td>\n",
       "      <td>...</td>\n",
       "      <td>...</td>\n",
       "    </tr>\n",
       "    <tr>\n",
       "      <th>3581</th>\n",
       "      <td>[17, 2357, 276, 15296, 3709, 284, 272, 3711, 2...</td>\n",
       "      <td>[1, 1, 1, 1, 1, 1, 1, 1, 1, 1, 1, 1, 1, 1, 1, ...</td>\n",
       "      <td>[17, 2357, 276, 15296, 3709, 284, 272, 3711, 2...</td>\n",
       "      <td>1536</td>\n",
       "    </tr>\n",
       "    <tr>\n",
       "      <th>3582</th>\n",
       "      <td>[2585, 363, 7007, 1522, 605, 272, 1579, 11139,...</td>\n",
       "      <td>[1, 1, 1, 1, 1, 1, 1, 1, 1, 1, 1, 1, 1, 1, 1, ...</td>\n",
       "      <td>[2585, 363, 7007, 1522, 605, 272, 1579, 11139,...</td>\n",
       "      <td>1536</td>\n",
       "    </tr>\n",
       "    <tr>\n",
       "      <th>3583</th>\n",
       "      <td>[6, 3711, 29, 202, 852, 348, 285, 1333, 407, 2...</td>\n",
       "      <td>[1, 1, 1, 1, 1, 1, 1, 1, 1, 1, 1, 1, 1, 1, 1, ...</td>\n",
       "      <td>[6, 3711, 29, 202, 852, 348, 285, 1333, 407, 2...</td>\n",
       "      <td>1536</td>\n",
       "    </tr>\n",
       "    <tr>\n",
       "      <th>3584</th>\n",
       "      <td>[10157, 285, 454, 3967, 365, 327, 272, 2873, 3...</td>\n",
       "      <td>[1, 1, 1, 1, 1, 1, 1, 1, 1, 1, 1, 1, 1, 1, 1, ...</td>\n",
       "      <td>[10157, 285, 454, 3967, 365, 327, 272, 2873, 3...</td>\n",
       "      <td>1536</td>\n",
       "    </tr>\n",
       "    <tr>\n",
       "      <th>3585</th>\n",
       "      <td>[76, 15, 760, 942, 500, 15, 12727, 272, 1176, ...</td>\n",
       "      <td>[1, 1, 1, 1, 1, 1, 1, 1, 1, 1, 1, 1, 1, 1, 1, ...</td>\n",
       "      <td>[76, 15, 760, 942, 500, 15, 12727, 272, 1176, ...</td>\n",
       "      <td>1536</td>\n",
       "    </tr>\n",
       "  </tbody>\n",
       "</table>\n",
       "<p>3586 rows × 4 columns</p>\n",
       "</div>"
      ],
      "text/plain": [
       "                                              input_ids  \\\n",
       "0     [12657, 272, 2236, 276, 1251, 284, 272, 5026, ...   \n",
       "1     [17, 2357, 276, 15296, 3709, 284, 272, 3711, 2...   \n",
       "2     [6265, 1383, 768, 316, 5954, 365, 327, 827, 17...   \n",
       "3     [105, 12, 339, 1203, 605, 450, 827, 17, 1252, ...   \n",
       "4     [7326, 309, 1466, 9715, 234, 1585, 20, 80, 838...   \n",
       "...                                                 ...   \n",
       "3581  [17, 2357, 276, 15296, 3709, 284, 272, 3711, 2...   \n",
       "3582  [2585, 363, 7007, 1522, 605, 272, 1579, 11139,...   \n",
       "3583  [6, 3711, 29, 202, 852, 348, 285, 1333, 407, 2...   \n",
       "3584  [10157, 285, 454, 3967, 365, 327, 272, 2873, 3...   \n",
       "3585  [76, 15, 760, 942, 500, 15, 12727, 272, 1176, ...   \n",
       "\n",
       "                                         attention_mask  \\\n",
       "0     [1, 1, 1, 1, 1, 1, 1, 1, 1, 1, 1, 1, 1, 1, 1, ...   \n",
       "1     [1, 1, 1, 1, 1, 1, 1, 1, 1, 1, 1, 1, 1, 1, 1, ...   \n",
       "2     [1, 1, 1, 1, 1, 1, 1, 1, 1, 1, 1, 1, 1, 1, 1, ...   \n",
       "3     [1, 1, 1, 1, 1, 1, 1, 1, 1, 1, 1, 1, 1, 1, 1, ...   \n",
       "4     [1, 1, 1, 1, 1, 1, 1, 1, 1, 1, 1, 1, 1, 1, 1, ...   \n",
       "...                                                 ...   \n",
       "3581  [1, 1, 1, 1, 1, 1, 1, 1, 1, 1, 1, 1, 1, 1, 1, ...   \n",
       "3582  [1, 1, 1, 1, 1, 1, 1, 1, 1, 1, 1, 1, 1, 1, 1, ...   \n",
       "3583  [1, 1, 1, 1, 1, 1, 1, 1, 1, 1, 1, 1, 1, 1, 1, ...   \n",
       "3584  [1, 1, 1, 1, 1, 1, 1, 1, 1, 1, 1, 1, 1, 1, 1, ...   \n",
       "3585  [1, 1, 1, 1, 1, 1, 1, 1, 1, 1, 1, 1, 1, 1, 1, ...   \n",
       "\n",
       "                                                 labels  input_ids_length  \n",
       "0     [12657, 272, 2236, 276, 1251, 284, 272, 5026, ...              1536  \n",
       "1     [17, 2357, 276, 15296, 3709, 284, 272, 3711, 2...              1536  \n",
       "2     [6265, 1383, 768, 316, 5954, 365, 327, 827, 17...              1536  \n",
       "3     [105, 12, 339, 1203, 605, 450, 827, 17, 1252, ...              1536  \n",
       "4     [7326, 309, 1466, 9715, 234, 1585, 20, 80, 838...              1536  \n",
       "...                                                 ...               ...  \n",
       "3581  [17, 2357, 276, 15296, 3709, 284, 272, 3711, 2...              1536  \n",
       "3582  [2585, 363, 7007, 1522, 605, 272, 1579, 11139,...              1536  \n",
       "3583  [6, 3711, 29, 202, 852, 348, 285, 1333, 407, 2...              1536  \n",
       "3584  [10157, 285, 454, 3967, 365, 327, 272, 2873, 3...              1536  \n",
       "3585  [76, 15, 760, 942, 500, 15, 12727, 272, 1176, ...              1536  \n",
       "\n",
       "[3586 rows x 4 columns]"
      ]
     },
     "execution_count": 14,
     "metadata": {},
     "output_type": "execute_result"
    }
   ],
   "source": [
    "# 'input_ids' 칼럼의 각 벡터의 길이를 새로운 칼럼 'input_ids_length'에 저장\n",
    "df_lm['input_ids_length'] = df_lm['input_ids'].apply(len)\n",
    "\n",
    "# 새로운 칼럼을 확인\n",
    "df_lm"
   ]
  },
  {
   "cell_type": "code",
   "execution_count": 15,
   "id": "78384b95-6ced-4d79-8514-0bc3455c2c0a",
   "metadata": {
    "tags": []
   },
   "outputs": [
    {
     "name": "stdout",
     "output_type": "stream",
     "text": [
      "The maximum length of 'input_ids' is 1536\n"
     ]
    }
   ],
   "source": [
    "# chunking 벡터의 최대 길이는 설정한 chunk_length windowing size로 고정됨\n",
    "# 'input_ids_length' 칼럼의 최대값을 확인\n",
    "max_value = df_lm['input_ids_length'].max()\n",
    "\n",
    "print(f\"The maximum length of 'input_ids' is {max_value}\")"
   ]
  },
  {
   "cell_type": "markdown",
   "id": "c1402b84-9ccb-4f1b-b993-4e3f2526c2b1",
   "metadata": {},
   "source": [
    "## Save dataset to S3"
   ]
  },
  {
   "cell_type": "code",
   "execution_count": 16,
   "id": "8a60eb07-9e82-4c22-bc30-beb71b98ff7f",
   "metadata": {
    "tags": []
   },
   "outputs": [
    {
     "name": "stdout",
     "output_type": "stream",
     "text": [
      "sagemaker.config INFO - Not applying SDK defaults from location: /etc/xdg/sagemaker/config.yaml\n",
      "sagemaker.config INFO - Not applying SDK defaults from location: /home/ec2-user/.config/sagemaker/config.yaml\n",
      "SageMaker role arn: arn:aws:iam::677146750822:role/service-role/AmazonSageMakerServiceCatalogProductsUseRole\n",
      "SageMaker bucket: sagemaker-ap-northeast-2-677146750822\n",
      "SageMaker session region: ap-northeast-2\n"
     ]
    }
   ],
   "source": [
    "import sagemaker\n",
    "import boto3\n",
    "sess = sagemaker.Session()\n",
    "region = boto3.Session().region_name\n",
    "# sagemaker session bucket -> used for uploading data, models and logs\n",
    "# sagemaker will automatically create this bucket if it not exists\n",
    "bucket = None\n",
    "if bucket is None and sess is not None:\n",
    "    # set to default bucket if a bucket name is not given\n",
    "    bucket = sess.default_bucket()\n",
    "\n",
    "try:\n",
    "    role = sagemaker.get_execution_role()\n",
    "except ValueError:\n",
    "    iam = boto3.client('iam')\n",
    "    role = iam.get_role(RoleName='sagemaker_execution_role')['Role']['Arn']\n",
    "\n",
    "sess = sagemaker.Session(default_bucket=bucket)\n",
    "\n",
    "print(f\"SageMaker role arn: {role}\")\n",
    "print(f\"SageMaker bucket: {sess.default_bucket()}\")\n",
    "print(f\"SageMaker session region: {sess.boto_region_name}\")"
   ]
  },
  {
   "cell_type": "code",
   "execution_count": 17,
   "id": "058c8186-64a9-4d90-a50f-db2a60f66a24",
   "metadata": {
    "tags": []
   },
   "outputs": [
    {
     "name": "stdout",
     "output_type": "stream",
     "text": [
      "S3 data path: \n",
      " s3://sagemaker-ap-northeast-2-677146750822/ko-llms/peft/kullm-polyglot-12-8b-v2/dataset/chunk-train\n",
      "S3 pretrained model path: \n",
      " s3://sagemaker-ap-northeast-2-677146750822/ko-llms/peft/huggingface-models/kullm-polyglot-12-8b-v2/\n"
     ]
    }
   ],
   "source": [
    "bucket_prefix = 'ko-llms/peft'\n",
    "dataset_prefix = 'chunk-train'\n",
    "s3_data_path = f\"s3://{bucket}/{bucket_prefix}/{model_name}/dataset/{dataset_prefix}\"\n",
    "s3_pretrained_model_path = f\"s3://{bucket}/{bucket_prefix}/huggingface-models/{model_name}/\"\n",
    "print(f\"S3 data path: \\n {s3_data_path}\")\n",
    "print(f\"S3 pretrained model path: \\n {s3_pretrained_model_path}\")"
   ]
  },
  {
   "cell_type": "code",
   "execution_count": 18,
   "id": "cd756ee2-6b8f-4c71-93de-e36fce768670",
   "metadata": {
    "tags": []
   },
   "outputs": [
    {
     "name": "stderr",
     "output_type": "stream",
     "text": [
      "/home/ec2-user/anaconda3/envs/python3/lib/python3.10/site-packages/fsspec/registry.py:272: UserWarning: Your installed version of s3fs is very old and known to cause\n",
      "severe performance issues, see also https://github.com/dask/dask/issues/10276\n",
      "\n",
      "To fix, you should specify a lower version bound on s3fs, or\n",
      "update the current installation.\n",
      "\n",
      "  warnings.warn(s3_msg)\n"
     ]
    },
    {
     "data": {
      "application/vnd.jupyter.widget-view+json": {
       "model_id": "a6a9e77132bd4425a2e8f1c99a119257",
       "version_major": 2,
       "version_minor": 0
      },
      "text/plain": [
       "Saving the dataset (0/1 shards):   0%|          | 0/3586 [00:00<?, ? examples/s]"
      ]
     },
     "metadata": {},
     "output_type": "display_data"
    },
    {
     "data": {
      "application/vnd.jupyter.widget-view+json": {
       "model_id": "6e2c3c9ce0974836bbbebc0c4104c89b",
       "version_major": 2,
       "version_minor": 0
      },
      "text/plain": [
       "Saving the dataset (0/1 shards):   0%|          | 0/50 [00:00<?, ? examples/s]"
      ]
     },
     "metadata": {},
     "output_type": "display_data"
    },
    {
     "name": "stdout",
     "output_type": "stream",
     "text": [
      "Number of samples for debugging: 50\n"
     ]
    }
   ],
   "source": [
    "num_debug_samples = 50\n",
    "lm_dataset.save_to_disk(s3_data_path)\n",
    "lm_dataset.select(range(num_debug_samples)).save_to_disk(dataset_prefix)\n",
    "print(f\"Number of samples for debugging: {num_debug_samples}\")"
   ]
  },
  {
   "cell_type": "code",
   "execution_count": 19,
   "id": "fdf592d8-c1c4-444a-af8f-dec2c923e0a8",
   "metadata": {
    "tags": []
   },
   "outputs": [
    {
     "name": "stdout",
     "output_type": "stream",
     "text": [
      "Stored 'bucket_prefix' (str)\n",
      "Stored 'dataset_prefix' (str)\n",
      "Stored 's3_data_path' (str)\n"
     ]
    }
   ],
   "source": [
    "%store bucket_prefix dataset_prefix s3_data_path"
   ]
  }
 ],
 "metadata": {
  "kernelspec": {
   "display_name": "conda_python3",
   "language": "python",
   "name": "conda_python3"
  },
  "language_info": {
   "codemirror_mode": {
    "name": "ipython",
    "version": 3
   },
   "file_extension": ".py",
   "mimetype": "text/x-python",
   "name": "python",
   "nbconvert_exporter": "python",
   "pygments_lexer": "ipython3",
   "version": "3.10.13"
  }
 },
 "nbformat": 4,
 "nbformat_minor": 5
}
