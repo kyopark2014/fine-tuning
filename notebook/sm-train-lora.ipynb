{
 "cells": [
  {
   "cell_type": "markdown",
   "id": "913eb0c8-b312-44d4-b38a-992277b66780",
   "metadata": {},
   "source": [
    "## Reference: [Korean LLM (Large Language Model) fine-tuning on SageMaker](https://github.com/daekeun-ml/genai-ko-LLM/blob/main/fine-tuning/3_sm-train-lora.ipynb)\n",
    "\n",
    "\n",
    "허깅페이스 인증 정보 설정: huggingface-cli login\n",
    "\n",
    "https://huggingface.co/join\n",
    "\n",
    "https://huggingface.co/settings/tokens"
   ]
  },
  {
   "cell_type": "markdown",
   "id": "03b4516d-1ffe-46dc-9437-0539ed24be34",
   "metadata": {},
   "source": [
    "## Overview\n",
    "\n",
    "이 노트북은 SageMaker 기본 API를 참조하므로, SageMaker Studio, SageMaker 노트북 인스턴스 또는 AWS CLI가 설정된 로컬 시스템에서 실행해야 합니다. SageMaker Studio 또는 SageMaker 노트북 인스턴스를 사용하는 경우 PyTorch 기반 커널을 선택하세요.\n",
    "\n",
    "훈련(Training) job 수행 시 최소 ml.g5.2xlarge 훈련 인스턴스를 권장하며, 분산 훈련 수행 시에는 ml.g5.12xlarge 훈련 인스턴스를 권장합니다. 만약 인스턴스 사용에 제한이 걸려 있다면 Request a service quota increase for SageMaker resources를 참조하여 인스턴스 제한을 해제해 주세요"
   ]
  },
  {
   "cell_type": "code",
   "execution_count": 1,
   "id": "81513099-99dd-4ccc-af96-d25ee1e0cd40",
   "metadata": {
    "tags": []
   },
   "outputs": [],
   "source": [
    "%store -r bucket_prefix dataset_prefix s3_data_path"
   ]
  },
  {
   "cell_type": "code",
   "execution_count": 2,
   "id": "7fcca93c-73f7-4e18-9b9b-cee32f535be9",
   "metadata": {
    "tags": []
   },
   "outputs": [],
   "source": [
    "try:\n",
    "    bucket_prefix\n",
    "    dataset_prefix\n",
    "    s3_data_path\n",
    "except NameError:\n",
    "    print(\"++++++++++++++++++++++++++++++++++++++++++++++++++++++++\")\n",
    "    print(\"[ERROR] 1번 모듈 노트북을 다시 실행해 주세요.\")\n",
    "    print(\"++++++++++++++++++++++++++++++++++++++++++++++++++++++++\")"
   ]
  },
  {
   "cell_type": "code",
   "execution_count": 3,
   "id": "1de5961e-798b-40e8-9491-91c425c0616e",
   "metadata": {
    "tags": []
   },
   "outputs": [
    {
     "data": {
      "text/plain": [
       "'ko-llms/peft'"
      ]
     },
     "execution_count": 3,
     "metadata": {},
     "output_type": "execute_result"
    }
   ],
   "source": [
    "bucket_prefix"
   ]
  },
  {
   "cell_type": "code",
   "execution_count": 4,
   "id": "1fc449eb-89b1-4061-bc7c-73e0243c1923",
   "metadata": {
    "tags": []
   },
   "outputs": [
    {
     "data": {
      "text/plain": [
       "'chunk-train'"
      ]
     },
     "execution_count": 4,
     "metadata": {},
     "output_type": "execute_result"
    }
   ],
   "source": [
    "dataset_prefix"
   ]
  },
  {
   "cell_type": "code",
   "execution_count": 5,
   "id": "1ca13204-1ab6-4350-98bf-c19471df5afe",
   "metadata": {
    "tags": []
   },
   "outputs": [
    {
     "data": {
      "text/plain": [
       "'s3://sagemaker-ap-northeast-2-677146750822/ko-llms/peft/kullm-polyglot-12-8b-v2/dataset/chunk-train'"
      ]
     },
     "execution_count": 5,
     "metadata": {},
     "output_type": "execute_result"
    }
   ],
   "source": [
    "s3_data_path"
   ]
  },
  {
   "cell_type": "markdown",
   "id": "9f43e8c0-2b42-4679-978b-f0159680bc67",
   "metadata": {},
   "source": [
    "## Download LLM from Hugging Face hub"
   ]
  },
  {
   "cell_type": "code",
   "execution_count": 6,
   "id": "695e1609-0fde-4672-9e61-4b7fa8c12632",
   "metadata": {
    "tags": []
   },
   "outputs": [],
   "source": [
    "!mkdir -p /home/ec2-user/SageMaker/models"
   ]
  },
  {
   "cell_type": "code",
   "execution_count": 7,
   "id": "b640c14b-a0a9-4a24-ac78-b5e12f50c627",
   "metadata": {
    "tags": []
   },
   "outputs": [],
   "source": [
    "import os\n",
    "from pathlib import Path\n",
    "from huggingface_hub import snapshot_download\n",
    "\n",
    "HF_MODEL_ID = \"nlpai-lab/kullm-polyglot-12.8b-v2\"\n",
    "\n",
    "# Only download pytorch checkpoint files\n",
    "allow_patterns = [\"*.json\", \"*.pt\", \"*.bin\", \"*.txt\", \"*.model\"]\n",
    "\n",
    "# create model dir\n",
    "model_name = HF_MODEL_ID.split(\"/\")[-1].replace('.', '-')\n",
    "model_tar_dir = Path(f\"/home/ec2-user/SageMaker/models/{model_name}\")\n",
    "if not os.path.isdir(model_tar_dir):\n",
    "    os.makedirs(model_tar_dir, exist_ok=True)\n",
    "    # Download model from Hugging Face into model_dir\n",
    "    snapshot_download(\n",
    "        HF_MODEL_ID, \n",
    "        local_dir=str(model_tar_dir), \n",
    "        local_dir_use_symlinks=False,\n",
    "        allow_patterns=allow_patterns,\n",
    "        cache_dir=\"/home/ec2-user/SageMaker/\"\n",
    "    )"
   ]
  },
  {
   "cell_type": "markdown",
   "id": "5431e555-a649-4e73-8bb6-bd9f21577fd1",
   "metadata": {},
   "source": [
    "## Save LLM to S3"
   ]
  },
  {
   "cell_type": "code",
   "execution_count": 8,
   "id": "3003dd10-b40c-41a5-a067-8bb530201e2c",
   "metadata": {
    "tags": []
   },
   "outputs": [
    {
     "name": "stderr",
     "output_type": "stream",
     "text": [
      "/home/ec2-user/anaconda3/envs/python3/lib/python3.10/site-packages/pandas/core/computation/expressions.py:21: UserWarning: Pandas requires version '2.8.0' or newer of 'numexpr' (version '2.7.3' currently installed).\n",
      "  from pandas.core.computation.check import NUMEXPR_INSTALLED\n"
     ]
    },
    {
     "name": "stdout",
     "output_type": "stream",
     "text": [
      "sagemaker.config INFO - Not applying SDK defaults from location: /etc/xdg/sagemaker/config.yaml\n",
      "sagemaker.config INFO - Not applying SDK defaults from location: /home/ec2-user/.config/sagemaker/config.yaml\n",
      "SageMaker role arn: arn:aws:iam::677146750822:role/service-role/AmazonSageMakerServiceCatalogProductsUseRole\n",
      "SageMaker bucket: sagemaker-ap-northeast-2-677146750822\n",
      "SageMaker session region: ap-northeast-2\n"
     ]
    }
   ],
   "source": [
    "import sagemaker\n",
    "import boto3\n",
    "sess = sagemaker.Session()\n",
    "region = boto3.Session().region_name\n",
    "# sagemaker session bucket -> used for uploading data, models and logs\n",
    "# sagemaker will automatically create this bucket if it not exists\n",
    "bucket = None\n",
    "if bucket is None and sess is not None:\n",
    "    # set to default bucket if a bucket name is not given\n",
    "    bucket = sess.default_bucket()\n",
    "\n",
    "try:\n",
    "    role = sagemaker.get_execution_role()\n",
    "except ValueError:\n",
    "    iam = boto3.client('iam')\n",
    "    role = iam.get_role(RoleName='sagemaker_execution_role')['Role']['Arn']\n",
    "\n",
    "sess = sagemaker.Session(default_bucket=bucket)\n",
    "\n",
    "print(f\"SageMaker role arn: {role}\")\n",
    "print(f\"SageMaker bucket: {sess.default_bucket()}\")\n",
    "print(f\"SageMaker session region: {sess.boto_region_name}\")"
   ]
  },
  {
   "cell_type": "code",
   "execution_count": 9,
   "id": "d18d8012-224e-4ad4-b222-6c4c7e3ec535",
   "metadata": {
    "tags": []
   },
   "outputs": [],
   "source": [
    "s3_pretrained_model_path = f\"s3://{bucket}/{bucket_prefix}/huggingface-models/{model_name}/\"\n",
    "s3_chkpt_path= f\"s3://{bucket}/{bucket_prefix}/huggingface-models/{model_name}/checkpoints\""
   ]
  },
  {
   "cell_type": "code",
   "execution_count": 10,
   "id": "1e380c38-e613-476b-ae8d-24c50085675d",
   "metadata": {
    "tags": []
   },
   "outputs": [
    {
     "data": {
      "text/plain": [
       "'s3://sagemaker-ap-northeast-2-677146750822/ko-llms/peft/huggingface-models/kullm-polyglot-12-8b-v2/'"
      ]
     },
     "execution_count": 10,
     "metadata": {},
     "output_type": "execute_result"
    }
   ],
   "source": [
    "s3_pretrained_model_path"
   ]
  },
  {
   "cell_type": "code",
   "execution_count": 11,
   "id": "62cbf6a0-3b67-4ef8-b719-7517882814df",
   "metadata": {
    "tags": []
   },
   "outputs": [
    {
     "data": {
      "text/plain": [
       "'s3://sagemaker-ap-northeast-2-677146750822/ko-llms/peft/huggingface-models/kullm-polyglot-12-8b-v2/checkpoints'"
      ]
     },
     "execution_count": 11,
     "metadata": {},
     "output_type": "execute_result"
    }
   ],
   "source": [
    "s3_chkpt_path"
   ]
  },
  {
   "cell_type": "code",
   "execution_count": 12,
   "id": "6ecf964d-8f74-4f60-8c6d-5592297c009c",
   "metadata": {
    "tags": []
   },
   "outputs": [],
   "source": [
    "%%bash\n",
    "aws configure set default.s3.max_concurrent_requests 100\n",
    "aws configure set default.s3.max_queue_size 10000\n",
    "aws configure set default.s3.multipart_threshold 1GB\n",
    "aws configure set default.s3.multipart_chunksize 64MB"
   ]
  },
  {
   "cell_type": "code",
   "execution_count": 13,
   "id": "cb4a0ab9-a271-4474-a201-a2a332cb0261",
   "metadata": {
    "tags": []
   },
   "outputs": [],
   "source": [
    "!aws s3 sync {model_tar_dir} {s3_pretrained_model_path}"
   ]
  },
  {
   "cell_type": "markdown",
   "id": "211a2e78-da09-44ee-99b8-fb94d804898b",
   "metadata": {},
   "source": [
    "## SageMaker Training\n",
    "\n",
    "SageMaker 훈련은 훈련 작업을 호출할 때, 1) 훈련 EC2 인스턴스 프로비저닝 - 2) 컨테이너 구동을 위한 도커 이미지 및 훈련 데이터 다운로드 - 3) 컨테이너 구동 - 4) 컨테이너 환경에서 훈련 수행 - 5) 컨테이너 환경에서 S3의 특정 버킷에 저장 - 6) 훈련 인스턴스 종료로 구성됩니다. 따라서, 훈련 수행 로직은 아래 예시와 같이 기존 개발 환경과 동일합니다.\n",
    "\n",
    "/opt/conda/bin/python train_hf.py --num_epochs 5 --train_batch_size 32 ...\n",
    "\n",
    "이 과정에서 컨테이너 환경에 필요한 환경 변수(예: 모델 경로, 훈련 데이터 경로) 들은 사전에 지정되어 있으며, 이 환경 변수들이 설정되어 있어야 훈련에 필요한 파일들의 경로를 인식할 수 있습니다. 대표적인 환경 변수들에 대한 자세한 내용은 https://github.com/aws/sagemaker-containers#important-environment-variables 을 참조하세요."
   ]
  },
  {
   "cell_type": "markdown",
   "id": "aa231060-cea0-4b0b-af89-93ca704b2b03",
   "metadata": {},
   "source": [
    "## Setup SageMaker Estimator"
   ]
  },
  {
   "cell_type": "code",
   "execution_count": 14,
   "id": "9aba6bda-5bed-4fff-ab92-6819e2613861",
   "metadata": {
    "tags": []
   },
   "outputs": [],
   "source": [
    "USE_WANDB = False\n",
    "LOCAL_MODE = False\n",
    "\n",
    "if USE_WANDB:\n",
    "    import wandb\n",
    "    wandb.login()"
   ]
  },
  {
   "cell_type": "code",
   "execution_count": 15,
   "id": "703fd1b8-bb3c-4539-80ff-b060f45f9f97",
   "metadata": {
    "tags": []
   },
   "outputs": [],
   "source": [
    "if USE_WANDB:\n",
    "    wandb.sagemaker_auth(path=\"./\")\n",
    "    entry_point = \"run-wandb.sh\"\n",
    "else:\n",
    "    entry_point = \"run.sh\""
   ]
  },
  {
   "cell_type": "code",
   "execution_count": 16,
   "id": "771b6579-519a-4abe-894b-27abd2fda6ac",
   "metadata": {
    "tags": []
   },
   "outputs": [
    {
     "data": {
      "text/plain": [
       "'run.sh'"
      ]
     },
     "execution_count": 16,
     "metadata": {},
     "output_type": "execute_result"
    }
   ],
   "source": [
    "entry_point"
   ]
  },
  {
   "cell_type": "code",
   "execution_count": 17,
   "id": "9bb96436-5212-4be3-acb2-480e3213e1ed",
   "metadata": {
    "tags": []
   },
   "outputs": [
    {
     "name": "stdout",
     "output_type": "stream",
     "text": [
      "ml.g5.12xlarge\n"
     ]
    }
   ],
   "source": [
    "instance_type = 'local_gpu' if LOCAL_MODE else 'ml.g5.12xlarge'\n",
    "print(instance_type)\n",
    "\n",
    "if instance_type in ['local', 'local_gpu']:\n",
    "    from sagemaker.local import LocalSession\n",
    "    sm_session = LocalSession()\n",
    "    sm_session.config = {'local': {'local_code': True}}\n",
    "else:\n",
    "    sm_session = sagemaker.session.Session()"
   ]
  },
  {
   "cell_type": "code",
   "execution_count": 18,
   "id": "a990532d-dd4d-4a67-a59d-98fc4a267d03",
   "metadata": {
    "tags": []
   },
   "outputs": [],
   "source": [
    "import time\n",
    "from sagemaker import get_execution_role\n",
    "from sagemaker.utils import name_from_base\n",
    "from sagemaker.inputs import TrainingInput\n",
    "from sagemaker.pytorch import PyTorch\n",
    "import boto3\n",
    "import sagemaker\n",
    "\n",
    "# Define Training Job Name \n",
    "job_name = name_from_base(f\"{model_name}-lora-peft\")\n",
    "\n",
    "# See https://github.com/aws/deep-learning-containers/blob/master/available_images.md\n",
    "image_uri = f'763104351884.dkr.ecr.{region}.amazonaws.com/pytorch-training:2.1.0-gpu-py310-cu121-ubuntu20.04-sagemaker'\n",
    "hparams = {}\n",
    "\n",
    "max_run = 6*60*60 # 6 hours\n",
    "use_spot_instances = False\n",
    "if use_spot_instances:\n",
    "    max_wait = 12*60*60 # 12 hours: spot instance waiting + max runtime\n",
    "else:\n",
    "    max_wait = None\n",
    "    \n",
    "# Create the Estimator\n",
    "estimator = PyTorch(\n",
    "    image_uri=image_uri,\n",
    "    entry_point=entry_point,        # train script\n",
    "    source_dir='src',               # directory which includes all the files needed for training\n",
    "    instance_type=instance_type,    # instances type used for the training job\n",
    "    instance_count=1,               # the number of instances used for training\n",
    "    base_job_name=job_name,         # the name of the training job\n",
    "    role=role,                      # Iam role used in training job to access AWS ressources, e.g. S3\n",
    "    sagemaker_session=sm_session,   # sagemaker session\n",
    "    volume_size=300,                # the size of the EBS volume in GB\n",
    "    hyperparameters=hparams,\n",
    "    debugger_hook_config=False,\n",
    "    disable_profile=True,\n",
    "    use_spot_instances=use_spot_instances,\n",
    "    max_run=max_run,\n",
    "    max_wait=max_wait if use_spot_instances else None,\n",
    "    checkpoint_s3_uri=s3_chkpt_path if instance_type not in ['local', 'local_gpu'] else None,\n",
    "    checkpoint_local_path='/opt/ml/checkpoints' if instance_type not in ['local', 'local_gpu'] else None,\n",
    "    #environment={\"TRANSFORMERS_OFFLINE\": \"1\", \"HF_DATASETS_OFFLINE\":\"1\"},\n",
    ")"
   ]
  },
  {
   "cell_type": "markdown",
   "id": "4606ce1d-5c2d-4400-a6ce-51260417f044",
   "metadata": {},
   "source": [
    "## Start Training job\n",
    "\n",
    "S3에서 훈련 인스턴스로 복사될 데이터를 지정한 후 SageMaker 훈련 job을 시작합니다. 모델 크기, 데이터 세트 크기에 따라서 몇십 분에서 몇 시간까지 소요될 수 있습니다."
   ]
  },
  {
   "cell_type": "code",
   "execution_count": 20,
   "id": "f9299cfb-14ef-4db2-b261-6dedbf1ef372",
   "metadata": {
    "tags": []
   },
   "outputs": [
    {
     "data": {
      "text/plain": [
       "'s3://sagemaker-ap-northeast-2-677146750822/ko-llms/peft/huggingface-models/kullm-polyglot-12-8b-v2/'"
      ]
     },
     "execution_count": 20,
     "metadata": {},
     "output_type": "execute_result"
    }
   ],
   "source": [
    "s3_pretrained_model_path"
   ]
  },
  {
   "cell_type": "code",
   "execution_count": 21,
   "id": "3546d47f-5c72-48f0-8f17-e294b54ad206",
   "metadata": {
    "tags": []
   },
   "outputs": [
    {
     "name": "stderr",
     "output_type": "stream",
     "text": [
      "INFO:sagemaker:Creating training-job with name: kullm-polyglot-12-8b-v2-lora-peft-2024--2024-02-13-12-32-10-718\n"
     ]
    },
    {
     "data": {
      "text/html": [
       "<b> [Fine-tuning] Review <a target=\"blank\" href=\"https://console.aws.amazon.com/sagemaker/home?region=ap-northeast-2#/jobs/kullm-polyglot-12-8b-v2-lora-peft-2024--2024-02-13-12-32-10-718\">Training Job</a></b>"
      ],
      "text/plain": [
       "<IPython.core.display.HTML object>"
      ]
     },
     "metadata": {},
     "output_type": "display_data"
    },
    {
     "data": {
      "text/html": [
       "<b> [Fine-tuning] Review <a target=\"blank\" href=\"https://console.aws.amazon.com/cloudwatch/home?region=ap-northeast-2#logStream:group=/aws/sagemaker/TrainingJobs;prefix=kullm-polyglot-12-8b-v2-lora-peft-2024--2024-02-13-12-32-10-718;streamFilter=typeLogStreamPrefix\">CloudWatch Logs</a></b>"
      ],
      "text/plain": [
       "<IPython.core.display.HTML object>"
      ]
     },
     "metadata": {},
     "output_type": "display_data"
    }
   ],
   "source": [
    "if LOCAL_MODE:\n",
    "    estimator.fit(\n",
    "        {\n",
    "            \"pretrained\": f'file://../../models/{model_name}',\n",
    "            \"training\": f'file://./{dataset_prefix}'\n",
    "        },\n",
    "        wait=False\n",
    "    )\n",
    "else:\n",
    "    fast_file = lambda x: TrainingInput(x, input_mode=\"FastFile\")\n",
    "    estimator.fit(\n",
    "        {\n",
    "            \"pretrained\": fast_file(s3_pretrained_model_path),\n",
    "            \"training\": fast_file(s3_data_path),\n",
    "        },\n",
    "        wait=False\n",
    "    )\n",
    "\n",
    "    from IPython.display import display, HTML\n",
    "\n",
    "    def make_console_link(region, train_job_name, train_task='[Training]'):\n",
    "        train_job_link = f'<b> {train_task} Review <a target=\"blank\" href=\"https://console.aws.amazon.com/sagemaker/home?region={region}#/jobs/{train_job_name}\">Training Job</a></b>'   \n",
    "        cloudwatch_link = f'<b> {train_task} Review <a target=\"blank\" href=\"https://console.aws.amazon.com/cloudwatch/home?region={region}#logStream:group=/aws/sagemaker/TrainingJobs;prefix={train_job_name};streamFilter=typeLogStreamPrefix\">CloudWatch Logs</a></b>'\n",
    "        return train_job_link, cloudwatch_link  \n",
    "\n",
    "    train_job_name = estimator.latest_training_job.job_name\n",
    "    train_job_link, cloudwatch_link = make_console_link(region, train_job_name, '[Fine-tuning]')\n",
    "\n",
    "    display(HTML(train_job_link))\n",
    "    display(HTML(cloudwatch_link))"
   ]
  },
  {
   "cell_type": "markdown",
   "id": "b38ee18a-dd44-4942-ba15-5192e52f551f",
   "metadata": {},
   "source": [
    "## View Logs\n",
    "\n",
    "훈련 로그는 CloudWatch Logs를 통해서 확인할 수 있습니다. 만약 다른 코드 셀을 실행하고 싶다면 이 코드 셀의 실행을 중단하셔도 됩니다."
   ]
  },
  {
   "cell_type": "code",
   "execution_count": null,
   "id": "0ac9a736-d11a-47f7-8f24-36421629da3e",
   "metadata": {
    "tags": []
   },
   "outputs": [
    {
     "name": "stdout",
     "output_type": "stream",
     "text": [
      "2024-02-13 12:32:37 Starting - Preparing the instances for training......"
     ]
    }
   ],
   "source": [
    "estimator.logs()"
   ]
  },
  {
   "cell_type": "markdown",
   "id": "0e80ed10-0a5e-426e-a3e4-2d0986fcd0bc",
   "metadata": {},
   "source": [
    "## (Optional) Copy S3 model artifact to local directory\n",
    "\n",
    "S3에 저장된 모델 아티팩트를 로컬 경로로 복사하여 압축을 해제합니다. 필요 시 로컬 환경에서 모델을 로드하여 추론을 수행할 수 있습니다."
   ]
  },
  {
   "cell_type": "code",
   "execution_count": null,
   "id": "77971d53-8b00-403e-8daa-e17b10e9a565",
   "metadata": {},
   "outputs": [],
   "source": [
    "import json, os\n",
    "\n",
    "local_model_dir = 'model_from_sagemaker'\n",
    "\n",
    "if not os.path.exists(local_model_dir):\n",
    "    os.makedirs(local_model_dir)\n",
    "\n",
    "!aws s3 cp {estimator.model_data} {local_model_dir}/model.tar.gz\n",
    "!tar -xzf {local_model_dir}/model.tar.gz -C {local_model_dir}\n",
    "!rm {local_model_dir}/model.tar.gz"
   ]
  },
  {
   "cell_type": "code",
   "execution_count": null,
   "id": "962e795b-daa7-4b2e-a2d0-73fef91946ab",
   "metadata": {},
   "outputs": [],
   "source": [
    "%store train_job_name"
   ]
  }
 ],
 "metadata": {
  "kernelspec": {
   "display_name": "conda_python3",
   "language": "python",
   "name": "conda_python3"
  },
  "language_info": {
   "codemirror_mode": {
    "name": "ipython",
    "version": 3
   },
   "file_extension": ".py",
   "mimetype": "text/x-python",
   "name": "python",
   "nbconvert_exporter": "python",
   "pygments_lexer": "ipython3",
   "version": "3.10.13"
  }
 },
 "nbformat": 4,
 "nbformat_minor": 5
}
